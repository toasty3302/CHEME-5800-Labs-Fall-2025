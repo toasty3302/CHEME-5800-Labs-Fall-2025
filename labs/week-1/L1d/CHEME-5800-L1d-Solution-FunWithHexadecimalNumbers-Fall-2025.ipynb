{
 "cells": [
  {
   "cell_type": "markdown",
   "id": "fa33aeba-6532-4d1a-98b7-e35fb576dc62",
   "metadata": {},
   "source": [
    "# L1d: Fun With Base 16 Numbers\n",
    "As a scientist or engineer, it's strange that (arguably) the most critical numbering systems for data science and machine learning applications are not floating point numbers but base $b$ integers! What? Yep. It's true.\n",
    "\n",
    "Base b integers are used in many hard-to-see, yet critical, applications. Let's dig into one of these in the activity, namely, the mathematical encoding of text.\n",
    "* __Backstory__. Computers don't see text like us, i.e., as a collection of Strings, happy face emojis, and other punctuation characters. Instead, computers only see sequences of binary bits. Thus, they must map each character in text to a unique integer, i.e., a sequence of binary bits. Because it's hard for us to think in binary, we express that integer in some base-b positional numbering system, resulting in text being just another digit sequence. \n",
    "* __Computers only see binary numbers, gotcha, but why base b__? Aren't base 10 numbers enough? Yes, they are, but remember that the Unicode code points we saw earlier can be up to 4 bytes (32 bits). It's hard for humans to deal with long sequences of 0s and 1s. Thus, encoding numbers in base-b, e.g., base 16, facilitates efficient text encoding by representing characters as fixed-width numerical representations easily decoded back into readable symbols.\n",
    "\n",
    "Let's start at the beginning. \n",
    "* Traditionally, characters were represented using [the ASCII system](https://en.wikipedia.org/wiki/ASCII). [Standard (7-bit) ASCII](https://www.ascii-code.com/ASCII) uses 7 bits of storage and defines 128 character codes numbered 0 through 127 (each character is mapped to a number ranging between 0 and 127). [Extended (8-bit) ASCII variants](https://www.ascii-code.com) is a similar idea, but uses 8 bits and defines 256 values numbered 0 to 255. But is 255 characters enough?\n",
    "* No! Modern encodings, such as [Unicode encodings like UTF-8 or UTF-16](https://en.wikipedia.org/wiki/Unicode), represent a much wider range of characters and symbols.\n",
    "\n",
    "In this lab, we'll dig into the numerical basis of text, starting with the [7-bit ASCII system](https://en.wikipedia.org/wiki/ASCII) and working our way to [Unicode encodings like UTF-8 or UTF-16](https://en.wikipedia.org/wiki/Unicode). \n",
    "\n",
    "___"
   ]
  },
  {
   "cell_type": "markdown",
   "id": "f062005e-1489-48e9-b6f2-bac22f3e2a68",
   "metadata": {},
   "source": [
    "## Setup, Data, and Prerequisites\n",
    "We set up the computational environment by including the `Include.jl` file and loading any needed resources.\n",
    "\n",
    "> __Include__: The [include command](https://docs.julialang.org/en/v1/base/base/#include) evaluates the contents of the input source file, `Include.jl`, in the notebook's global scope. The `Include.jl` file sets paths, loads required external packages, etc. For additional information on functions and types used in this material, see the [Julia programming language documentation](https://docs.julialang.org/en/v1/).\n",
    "\n",
    "For clarity, `include(joinpath(@__DIR__, \"Include.jl\"))` loads the `Include.jl` file that lives next to this notebook. `@__DIR__` expands to the directory containing the notebook, so this call works even if you open the notebook from a different working directory in VSCode."
   ]
  },
  {
   "cell_type": "code",
   "execution_count": 2,
   "id": "7a7f1c1f-2350-4cd8-85e4-44662a0497c2",
   "metadata": {},
   "outputs": [
    {
     "name": "stderr",
     "output_type": "stream",
     "text": [
      "\u001b[32m\u001b[1m    Updating\u001b[22m\u001b[39m git-repo `https://github.com/varnerlab/VLDataScienceMachineLearningPackage.jl.git`\n",
      "\u001b[32m\u001b[1m   Resolving\u001b[22m\u001b[39m package versions...\n",
      "\u001b[32m\u001b[1m   Installed\u001b[22m\u001b[39m x265_jll ───────────────────── v4.1.0+0\n",
      "\u001b[32m\u001b[1m   Installed\u001b[22m\u001b[39m libfdk_aac_jll ─────────────── v2.0.4+0\n",
      "\u001b[32m\u001b[1m   Installed\u001b[22m\u001b[39m Libmount_jll ───────────────── v2.41.1+0\n",
      "\u001b[32m\u001b[1m   Installed\u001b[22m\u001b[39m JpegTurbo_jll ──────────────── v3.1.2+0\n",
      "\u001b[32m\u001b[1m   Installed\u001b[22m\u001b[39m GR_jll ─────────────────────── v0.73.17+0\n",
      "\u001b[32m\u001b[1m   Installed\u001b[22m\u001b[39m libdecor_jll ───────────────── v0.2.2+0\n",
      "\u001b[32m\u001b[1m   Installed\u001b[22m\u001b[39m OffsetArrays ───────────────── v1.17.0\n",
      "\u001b[32m\u001b[1m   Installed\u001b[22m\u001b[39m LERC_jll ───────────────────── v4.0.1+0\n",
      "\u001b[32m\u001b[1m   Installed\u001b[22m\u001b[39m Opus_jll ───────────────────── v1.5.2+0\n",
      "\u001b[32m\u001b[1m   Installed\u001b[22m\u001b[39m RelocatableFolders ─────────── v1.0.1\n",
      "\u001b[32m\u001b[1m   Installed\u001b[22m\u001b[39m LoggingExtras ──────────────── v1.1.0\n",
      "\u001b[32m\u001b[1m   Installed\u001b[22m\u001b[39m Xorg_xkbcomp_jll ───────────── v1.4.7+0\n",
      "\u001b[32m\u001b[1m   Installed\u001b[22m\u001b[39m Measures ───────────────────── v0.3.2\n",
      "\u001b[32m\u001b[1m   Installed\u001b[22m\u001b[39m FFTW ───────────────────────── v1.9.0\n",
      "\u001b[32m\u001b[1m   Installed\u001b[22m\u001b[39m Unitful ────────────────────── v1.24.0\n",
      "\u001b[32m\u001b[1m   Installed\u001b[22m\u001b[39m ConcurrentUtilities ────────── v2.5.0\n",
      "\u001b[32m\u001b[1m   Installed\u001b[22m\u001b[39m Xorg_xcb_util_wm_jll ───────── v0.4.2+0\n",
      "\u001b[32m\u001b[1m   Installed\u001b[22m\u001b[39m Grisu ──────────────────────── v1.0.2\n",
      "\u001b[32m\u001b[1m   Installed\u001b[22m\u001b[39m Xorg_xcb_util_image_jll ────── v0.4.1+0\n",
      "\u001b[32m\u001b[1m   Installed\u001b[22m\u001b[39m RecipesPipeline ────────────── v0.6.12\n",
      "\u001b[32m\u001b[1m   Installed\u001b[22m\u001b[39m PlotUtils ──────────────────── v1.4.3\n",
      "\u001b[32m\u001b[1m   Installed\u001b[22m\u001b[39m NearestNeighbors ───────────── v0.4.22\n",
      "\u001b[32m\u001b[1m   Installed\u001b[22m\u001b[39m ScopedValues ───────────────── v1.5.0\n",
      "\u001b[32m\u001b[1m   Installed\u001b[22m\u001b[39m DelimitedFiles ─────────────── v1.9.1\n",
      "\u001b[32m\u001b[1m   Installed\u001b[22m\u001b[39m OpenSSL ────────────────────── v1.5.0\n",
      "\u001b[32m\u001b[1m   Installed\u001b[22m\u001b[39m Cairo_jll ──────────────────── v1.18.5+0\n",
      "\u001b[32m\u001b[1m   Installed\u001b[22m\u001b[39m Xorg_libSM_jll ─────────────── v1.2.6+0\n",
      "\u001b[32m\u001b[1m   Installed\u001b[22m\u001b[39m Xorg_xcb_util_jll ──────────── v0.4.1+0\n",
      "\u001b[32m\u001b[1m   Installed\u001b[22m\u001b[39m HTTP ───────────────────────── v1.10.17\n",
      "\u001b[32m\u001b[1m   Installed\u001b[22m\u001b[39m Fontconfig_jll ─────────────── v2.17.1+0\n",
      "\u001b[32m\u001b[1m   Installed\u001b[22m\u001b[39m Xorg_libXau_jll ────────────── v1.0.13+0\n",
      "\u001b[32m\u001b[1m   Installed\u001b[22m\u001b[39m Xorg_libxkbfile_jll ────────── v1.1.3+0\n",
      "\u001b[32m\u001b[1m   Installed\u001b[22m\u001b[39m IntelOpenMP_jll ────────────── v2025.2.0+0\n",
      "\u001b[32m\u001b[1m   Installed\u001b[22m\u001b[39m Xorg_libXinerama_jll ───────── v1.1.6+0\n",
      "\u001b[32m\u001b[1m   Installed\u001b[22m\u001b[39m EpollShim_jll ──────────────── v0.0.20230411+1\n",
      "\u001b[32m\u001b[1m   Installed\u001b[22m\u001b[39m Distances ──────────────────── v0.10.12\n",
      "\u001b[32m\u001b[1m   Installed\u001b[22m\u001b[39m JLD2 ───────────────────────── v0.6.0\n",
      "\u001b[32m\u001b[1m   Installed\u001b[22m\u001b[39m FFMPEG ─────────────────────── v0.4.4\n",
      "\u001b[32m\u001b[1m   Installed\u001b[22m\u001b[39m Pango_jll ──────────────────── v1.56.3+0\n",
      "\u001b[32m\u001b[1m   Installed\u001b[22m\u001b[39m Xorg_xcb_util_keysyms_jll ──── v0.4.1+0\n",
      "\u001b[32m\u001b[1m   Installed\u001b[22m\u001b[39m Showoff ────────────────────── v1.0.3\n",
      "\u001b[32m\u001b[1m   Installed\u001b[22m\u001b[39m xkbcommon_jll ──────────────── v1.9.2+0\n",
      "\u001b[32m\u001b[1m   Installed\u001b[22m\u001b[39m GR ─────────────────────────── v0.73.17\n",
      "\u001b[32m\u001b[1m   Installed\u001b[22m\u001b[39m Bzip2_jll ──────────────────── v1.0.9+0\n",
      "\u001b[32m\u001b[1m   Installed\u001b[22m\u001b[39m Clustering ─────────────────── v0.15.8\n",
      "\u001b[32m\u001b[1m   Installed\u001b[22m\u001b[39m SimpleBufferStream ─────────── v1.2.0\n",
      "\u001b[32m\u001b[1m   Installed\u001b[22m\u001b[39m XZ_jll ─────────────────────── v5.8.1+0\n",
      "\u001b[32m\u001b[1m   Installed\u001b[22m\u001b[39m HarfBuzz_jll ───────────────── v8.5.1+0\n",
      "\u001b[32m\u001b[1m   Installed\u001b[22m\u001b[39m LZO_jll ────────────────────── v2.10.3+0\n",
      "\u001b[32m\u001b[1m   Installed\u001b[22m\u001b[39m ChunkCodecLibZstd ──────────── v0.2.1\n",
      "\u001b[32m\u001b[1m   Installed\u001b[22m\u001b[39m PlotThemes ─────────────────── v3.3.0\n",
      "\u001b[32m\u001b[1m   Installed\u001b[22m\u001b[39m fzf_jll ────────────────────── v0.61.1+0\n",
      "\u001b[32m\u001b[1m   Installed\u001b[22m\u001b[39m FriBidi_jll ────────────────── v1.0.17+0\n",
      "\u001b[32m\u001b[1m   Installed\u001b[22m\u001b[39m UnicodeFun ─────────────────── v0.4.1\n",
      "\u001b[32m\u001b[1m   Installed\u001b[22m\u001b[39m x264_jll ───────────────────── v10164.0.1+0\n",
      "\u001b[32m\u001b[1m   Installed\u001b[22m\u001b[39m FreeType2_jll ──────────────── v2.13.4+0\n",
      "\u001b[32m\u001b[1m   Installed\u001b[22m\u001b[39m MbedTLS ────────────────────── v1.1.9\n",
      "\u001b[32m\u001b[1m   Installed\u001b[22m\u001b[39m GLFW_jll ───────────────────── v3.4.0+2\n",
      "\u001b[32m\u001b[1m   Installed\u001b[22m\u001b[39m Ratios ─────────────────────── v0.4.5\n",
      "\u001b[32m\u001b[1m   Installed\u001b[22m\u001b[39m Xorg_libxcb_jll ────────────── v1.17.1+0\n",
      "\u001b[32m\u001b[1m   Installed\u001b[22m\u001b[39m JLFzf ──────────────────────── v0.1.11\n",
      "\u001b[32m\u001b[1m   Installed\u001b[22m\u001b[39m libpng_jll ─────────────────── v1.6.50+0\n",
      "\u001b[32m\u001b[1m   Installed\u001b[22m\u001b[39m ExceptionUnwrapping ────────── v0.1.11\n",
      "\u001b[32m\u001b[1m   Installed\u001b[22m\u001b[39m libaom_jll ─────────────────── v3.12.1+0\n",
      "\u001b[32m\u001b[1m   Installed\u001b[22m\u001b[39m Scratch ────────────────────── v1.3.0\n",
      "\u001b[32m\u001b[1m   Installed\u001b[22m\u001b[39m mtdev_jll ──────────────────── v1.1.7+0\n",
      "\u001b[32m\u001b[1m   Installed\u001b[22m\u001b[39m oneTBB_jll ─────────────────── v2022.0.0+0\n",
      "\u001b[32m\u001b[1m   Installed\u001b[22m\u001b[39m StatsPlots ─────────────────── v0.15.7\n",
      "\u001b[32m\u001b[1m   Installed\u001b[22m\u001b[39m Dbus_jll ───────────────────── v1.16.2+0\n",
      "\u001b[32m\u001b[1m   Installed\u001b[22m\u001b[39m Plots ──────────────────────── v1.40.19\n",
      "\u001b[32m\u001b[1m   Installed\u001b[22m\u001b[39m Xorg_libXext_jll ───────────── v1.3.7+0\n",
      "\u001b[32m\u001b[1m   Installed\u001b[22m\u001b[39m Zstd_jll ───────────────────── v1.5.7+1\n",
      "\u001b[32m\u001b[1m   Installed\u001b[22m\u001b[39m Expat_jll ──────────────────── v2.7.1+0\n",
      "\u001b[32m\u001b[1m   Installed\u001b[22m\u001b[39m Xorg_xcb_util_cursor_jll ───── v0.1.5+0\n",
      "\u001b[32m\u001b[1m   Installed\u001b[22m\u001b[39m eudev_jll ──────────────────── v3.2.14+0\n",
      "\u001b[32m\u001b[1m   Installed\u001b[22m\u001b[39m ChunkCodecLibZlib ──────────── v0.2.1\n",
      "\u001b[32m\u001b[1m   Installed\u001b[22m\u001b[39m HashArrayMappedTries ───────── v0.2.0\n",
      "\u001b[32m\u001b[1m   Installed\u001b[22m\u001b[39m Libffi_jll ─────────────────── v3.4.7+0\n",
      "\u001b[32m\u001b[1m   Installed\u001b[22m\u001b[39m AbstractFFTs ───────────────── v1.5.0\n",
      "\u001b[32m\u001b[1m   Installed\u001b[22m\u001b[39m MKL_jll ────────────────────── v2025.2.0+0\n",
      "\u001b[32m\u001b[1m   Installed\u001b[22m\u001b[39m Libtiff_jll ────────────────── v4.7.1+0\n",
      "\u001b[32m\u001b[1m   Installed\u001b[22m\u001b[39m ChunkCodecCore ─────────────── v0.5.3\n",
      "\u001b[32m\u001b[1m   Installed\u001b[22m\u001b[39m libevdev_jll ───────────────── v1.13.4+0\n",
      "\u001b[32m\u001b[1m   Installed\u001b[22m\u001b[39m Format ─────────────────────── v1.3.7\n",
      "\u001b[32m\u001b[1m   Installed\u001b[22m\u001b[39m Xorg_libXrender_jll ────────── v0.9.12+0\n",
      "\u001b[32m\u001b[1m   Installed\u001b[22m\u001b[39m Ogg_jll ────────────────────── v1.3.6+0\n",
      "\u001b[32m\u001b[1m   Installed\u001b[22m\u001b[39m libinput_jll ───────────────── v1.28.1+0\n",
      "\u001b[32m\u001b[1m   Installed\u001b[22m\u001b[39m Qt6ShaderTools_jll ─────────── v6.8.2+1\n",
      "\u001b[32m\u001b[1m   Installed\u001b[22m\u001b[39m Vulkan_Loader_jll ──────────── v1.3.243+0\n",
      "\u001b[32m\u001b[1m   Installed\u001b[22m\u001b[39m Xorg_libXi_jll ─────────────── v1.8.3+0\n",
      "\u001b[32m\u001b[1m   Installed\u001b[22m\u001b[39m KernelDensity ──────────────── v0.6.10\n",
      "\u001b[32m\u001b[1m   Installed\u001b[22m\u001b[39m ChainRulesCore ─────────────── v1.26.0\n",
      "\u001b[32m\u001b[1m   Installed\u001b[22m\u001b[39m Qt6Declarative_jll ─────────── v6.8.2+1\n",
      "\u001b[32m\u001b[1m   Installed\u001b[22m\u001b[39m Interpolations ─────────────── v0.15.1\n",
      "\u001b[32m\u001b[1m   Installed\u001b[22m\u001b[39m Libuuid_jll ────────────────── v2.41.1+0\n",
      "\u001b[32m\u001b[1m   Installed\u001b[22m\u001b[39m FFTW_jll ───────────────────── v3.3.11+0\n",
      "\u001b[32m\u001b[1m   Installed\u001b[22m\u001b[39m Xorg_libXcursor_jll ────────── v1.2.4+0\n",
      "\u001b[32m\u001b[1m   Installed\u001b[22m\u001b[39m Widgets ────────────────────── v0.6.7\n",
      "\u001b[32m\u001b[1m   Installed\u001b[22m\u001b[39m MultivariateStats ──────────── v0.10.3\n",
      "\u001b[32m\u001b[1m   Installed\u001b[22m\u001b[39m MacroTools ─────────────────── v0.5.16\n",
      "\u001b[32m\u001b[1m   Installed\u001b[22m\u001b[39m Graphite2_jll ──────────────── v1.3.15+0\n",
      "\u001b[32m\u001b[1m   Installed\u001b[22m\u001b[39m Adapt ──────────────────────── v4.3.0\n",
      "\u001b[32m\u001b[1m   Installed\u001b[22m\u001b[39m Xorg_libICE_jll ────────────── v1.1.2+0\n",
      "\u001b[32m\u001b[1m   Installed\u001b[22m\u001b[39m libass_jll ─────────────────── v0.17.4+0\n",
      "\u001b[32m\u001b[1m   Installed\u001b[22m\u001b[39m Pixman_jll ─────────────────── v0.44.2+0\n",
      "\u001b[32m\u001b[1m   Installed\u001b[22m\u001b[39m Xorg_xcb_util_renderutil_jll ─ v0.3.10+0\n",
      "\u001b[32m\u001b[1m   Installed\u001b[22m\u001b[39m StableRNGs ─────────────────── v1.0.3\n",
      "\u001b[32m\u001b[1m   Installed\u001b[22m\u001b[39m Latexify ───────────────────── v0.16.9\n",
      "\u001b[32m\u001b[1m   Installed\u001b[22m\u001b[39m Xorg_xtrans_jll ────────────── v1.6.0+0\n",
      "\u001b[32m\u001b[1m   Installed\u001b[22m\u001b[39m OpenSSL_jll ────────────────── v3.5.2+0\n",
      "\u001b[32m\u001b[1m   Installed\u001b[22m\u001b[39m BitFlags ───────────────────── v0.1.9\n",
      "\u001b[32m\u001b[1m   Installed\u001b[22m\u001b[39m FFMPEG_jll ─────────────────── v7.1.1+0\n",
      "\u001b[32m\u001b[1m   Installed\u001b[22m\u001b[39m Arpack_jll ─────────────────── v3.5.1+1\n",
      "\u001b[32m\u001b[1m   Installed\u001b[22m\u001b[39m Xorg_xkeyboard_config_jll ──── v2.44.0+0\n",
      "\u001b[32m\u001b[1m   Installed\u001b[22m\u001b[39m Wayland_jll ────────────────── v1.24.0+0\n",
      "\u001b[32m\u001b[1m   Installed\u001b[22m\u001b[39m LLVMOpenMP_jll ─────────────── v18.1.8+0\n",
      "\u001b[32m\u001b[1m   Installed\u001b[22m\u001b[39m RecipesBase ────────────────── v1.3.4\n",
      "\u001b[32m\u001b[1m   Installed\u001b[22m\u001b[39m Libiconv_jll ───────────────── v1.18.0+0\n",
      "\u001b[32m\u001b[1m   Installed\u001b[22m\u001b[39m LAME_jll ───────────────────── v3.100.3+0\n",
      "\u001b[32m\u001b[1m   Installed\u001b[22m\u001b[39m Xorg_libXrandr_jll ─────────── v1.5.5+0\n",
      "\u001b[32m\u001b[1m   Installed\u001b[22m\u001b[39m Qt6Wayland_jll ─────────────── v6.8.2+1\n",
      "\u001b[32m\u001b[1m   Installed\u001b[22m\u001b[39m GettextRuntime_jll ─────────── v0.22.4+0\n",
      "\u001b[32m\u001b[1m   Installed\u001b[22m\u001b[39m TableOperations ────────────── v1.2.0\n",
      "\u001b[32m\u001b[1m   Installed\u001b[22m\u001b[39m Xorg_libXfixes_jll ─────────── v6.0.1+0\n",
      "\u001b[32m\u001b[1m   Installed\u001b[22m\u001b[39m Qt6Base_jll ────────────────── v6.8.2+1\n",
      "\u001b[32m\u001b[1m   Installed\u001b[22m\u001b[39m URIs ───────────────────────── v1.6.1\n",
      "\u001b[32m\u001b[1m   Installed\u001b[22m\u001b[39m Xorg_libX11_jll ────────────── v1.8.12+0\n",
      "\u001b[32m\u001b[1m   Installed\u001b[22m\u001b[39m Glib_jll ───────────────────── v2.84.3+0\n",
      "\u001b[32m\u001b[1m   Installed\u001b[22m\u001b[39m libvorbis_jll ──────────────── v1.3.8+0\n",
      "\u001b[32m\u001b[1m   Installed\u001b[22m\u001b[39m Arpack ─────────────────────── v0.5.4\n",
      "\u001b[32m\u001b[1m   Installed\u001b[22m\u001b[39m AxisAlgorithms ─────────────── v1.1.0\n",
      "\u001b[32m\u001b[1m   Installed\u001b[22m\u001b[39m Libglvnd_jll ───────────────── v1.7.1+1\n",
      "\u001b[32m\u001b[1m   Installed\u001b[22m\u001b[39m Xorg_libXdmcp_jll ──────────── v1.1.6+0\n",
      "\u001b[32m\u001b[1m   Installed\u001b[22m\u001b[39m WoodburyMatrices ───────────── v1.0.0\n",
      "\u001b[32m\u001b[1m   Installed\u001b[22m\u001b[39m Unzip ──────────────────────── v0.2.0\n",
      "\u001b[32m\u001b[1m   Installed\u001b[22m\u001b[39m Observables ────────────────── v0.5.5\n",
      "\u001b[32m\u001b[1m   Installed\u001b[22m\u001b[39m UnitfulLatexify ────────────── v1.7.0\n",
      "\u001b[32m\u001b[1m    Updating\u001b[22m\u001b[39m `C:\\Users\\billn\\Downloads\\CHEM4800\\CHEME-5800-Labs-Fall-2025\\labs\\week-1\\L1d\\Project.toml`\n",
      "  \u001b[90m[336ed68f] \u001b[39m\u001b[92m+ CSV v0.10.15\u001b[39m\n",
      "  \u001b[90m[aaaa29a8] \u001b[39m\u001b[92m+ Clustering v0.15.8\u001b[39m\n",
      "  \u001b[90m[5ae59095] \u001b[39m\u001b[92m+ Colors v0.13.1\u001b[39m\n",
      "  \u001b[90m[a93c6f00] \u001b[39m\u001b[92m+ DataFrames v1.7.1\u001b[39m\n",
      "  \u001b[90m[b4f34e82] \u001b[39m\u001b[92m+ Distances v0.10.12\u001b[39m\n",
      "  \u001b[90m[31c24e10] \u001b[39m\u001b[92m+ Distributions v0.25.120\u001b[39m\n",
      "  \u001b[90m[5789e2e9] \u001b[39m\u001b[92m+ FileIO v1.17.0\u001b[39m\n",
      "  \u001b[90m[033835bb] \u001b[39m\u001b[92m+ JLD2 v0.6.0\u001b[39m\n",
      "  \u001b[90m[91a5bcdd] \u001b[39m\u001b[92m+ Plots v1.40.19\u001b[39m\n",
      "\u001b[33m⌅\u001b[39m \u001b[90m[08abe8d2] \u001b[39m\u001b[92m+ PrettyTables v2.4.0\u001b[39m\n",
      "  \u001b[90m[10745b16] \u001b[39m\u001b[92m+ Statistics v1.11.1\u001b[39m\n",
      "  \u001b[90m[f3b207a7] \u001b[39m\u001b[92m+ StatsPlots v0.15.7\u001b[39m\n",
      "  \u001b[90m[24b76065] \u001b[39m\u001b[92m+ VLDataScienceMachineLearningPackage v0.1.0 `https://github.com/varnerlab/VLDataScienceMachineLearningPackage.jl.git#main`\u001b[39m\n",
      "  \u001b[90m[37e2e46d] \u001b[39m\u001b[93m~ LinearAlgebra ⇒ v1.11.0\u001b[39m\n",
      "\u001b[32m\u001b[1m    Updating\u001b[22m\u001b[39m `C:\\Users\\billn\\Downloads\\CHEM4800\\CHEME-5800-Labs-Fall-2025\\labs\\week-1\\L1d\\Manifest.toml`\n",
      "  \u001b[90m[621f4979] \u001b[39m\u001b[92m+ AbstractFFTs v1.5.0\u001b[39m\n",
      "  \u001b[90m[79e6a3ab] \u001b[39m\u001b[92m+ Adapt v4.3.0\u001b[39m\n",
      "  \u001b[90m[66dad0bd] \u001b[39m\u001b[92m+ AliasTables v1.1.3\u001b[39m\n",
      "  \u001b[90m[7d9fca2a] \u001b[39m\u001b[92m+ Arpack v0.5.4\u001b[39m\n",
      "  \u001b[90m[13072b0f] \u001b[39m\u001b[92m+ AxisAlgorithms v1.1.0\u001b[39m\n",
      "  \u001b[90m[d1d4a3ce] \u001b[39m\u001b[92m+ BitFlags v0.1.9\u001b[39m\n",
      "  \u001b[90m[336ed68f] \u001b[39m\u001b[92m+ CSV v0.10.15\u001b[39m\n",
      "  \u001b[90m[d360d2e6] \u001b[39m\u001b[92m+ ChainRulesCore v1.26.0\u001b[39m\n",
      "\u001b[33m⌅\u001b[39m \u001b[90m[0b6fb165] \u001b[39m\u001b[92m+ ChunkCodecCore v0.5.3\u001b[39m\n",
      "\u001b[33m⌅\u001b[39m \u001b[90m[4c0bbee4] \u001b[39m\u001b[92m+ ChunkCodecLibZlib v0.2.1\u001b[39m\n",
      "\u001b[33m⌅\u001b[39m \u001b[90m[55437552] \u001b[39m\u001b[92m+ ChunkCodecLibZstd v0.2.1\u001b[39m\n",
      "  \u001b[90m[aaaa29a8] \u001b[39m\u001b[92m+ Clustering v0.15.8\u001b[39m\n",
      "  \u001b[90m[944b1d66] \u001b[39m\u001b[92m+ CodecZlib v0.7.8\u001b[39m\n",
      "  \u001b[90m[35d6a980] \u001b[39m\u001b[92m+ ColorSchemes v3.30.0\u001b[39m\n",
      "  \u001b[90m[3da002f7] \u001b[39m\u001b[92m+ ColorTypes v0.12.1\u001b[39m\n",
      "  \u001b[90m[c3611d14] \u001b[39m\u001b[92m+ ColorVectorSpace v0.11.0\u001b[39m\n",
      "  \u001b[90m[5ae59095] \u001b[39m\u001b[92m+ Colors v0.13.1\u001b[39m\n",
      "  \u001b[90m[34da2185] \u001b[39m\u001b[92m+ Compat v4.18.0\u001b[39m\n",
      "  \u001b[90m[f0e56b4a] \u001b[39m\u001b[92m+ ConcurrentUtilities v2.5.0\u001b[39m\n",
      "  \u001b[90m[d38c429a] \u001b[39m\u001b[92m+ Contour v0.6.3\u001b[39m\n",
      "  \u001b[90m[a8cc5b0e] \u001b[39m\u001b[92m+ Crayons v4.1.1\u001b[39m\n",
      "  \u001b[90m[9a962f9c] \u001b[39m\u001b[92m+ DataAPI v1.16.0\u001b[39m\n",
      "  \u001b[90m[a93c6f00] \u001b[39m\u001b[92m+ DataFrames v1.7.1\u001b[39m\n",
      "\u001b[33m⌅\u001b[39m \u001b[90m[864edb3b] \u001b[39m\u001b[92m+ DataStructures v0.18.22\u001b[39m\n",
      "  \u001b[90m[e2d170a0] \u001b[39m\u001b[92m+ DataValueInterfaces v1.0.0\u001b[39m\n",
      "  \u001b[90m[8bb1440f] \u001b[39m\u001b[92m+ DelimitedFiles v1.9.1\u001b[39m\n",
      "  \u001b[90m[b4f34e82] \u001b[39m\u001b[92m+ Distances v0.10.12\u001b[39m\n",
      "  \u001b[90m[31c24e10] \u001b[39m\u001b[92m+ Distributions v0.25.120\u001b[39m\n",
      "  \u001b[90m[ffbed154] \u001b[39m\u001b[92m+ DocStringExtensions v0.9.5\u001b[39m\n",
      "  \u001b[90m[460bff9d] \u001b[39m\u001b[92m+ ExceptionUnwrapping v0.1.11\u001b[39m\n",
      "  \u001b[90m[c87230d0] \u001b[39m\u001b[92m+ FFMPEG v0.4.4\u001b[39m\n",
      "  \u001b[90m[7a1cc6ca] \u001b[39m\u001b[92m+ FFTW v1.9.0\u001b[39m\n",
      "  \u001b[90m[5789e2e9] \u001b[39m\u001b[92m+ FileIO v1.17.0\u001b[39m\n",
      "  \u001b[90m[48062228] \u001b[39m\u001b[92m+ FilePathsBase v0.9.24\u001b[39m\n",
      "  \u001b[90m[1a297f60] \u001b[39m\u001b[92m+ FillArrays v1.13.0\u001b[39m\n",
      "  \u001b[90m[53c48c17] \u001b[39m\u001b[92m+ FixedPointNumbers v0.8.5\u001b[39m\n",
      "  \u001b[90m[1fa38f19] \u001b[39m\u001b[92m+ Format v1.3.7\u001b[39m\n",
      "  \u001b[90m[28b8d3ca] \u001b[39m\u001b[92m+ GR v0.73.17\u001b[39m\n",
      "  \u001b[90m[42e2da0e] \u001b[39m\u001b[92m+ Grisu v1.0.2\u001b[39m\n",
      "  \u001b[90m[cd3eb016] \u001b[39m\u001b[92m+ HTTP v1.10.17\u001b[39m\n",
      "  \u001b[90m[076d061b] \u001b[39m\u001b[92m+ HashArrayMappedTries v0.2.0\u001b[39m\n",
      "  \u001b[90m[34004b35] \u001b[39m\u001b[92m+ HypergeometricFunctions v0.3.28\u001b[39m\n",
      "  \u001b[90m[842dd82b] \u001b[39m\u001b[92m+ InlineStrings v1.4.5\u001b[39m\n",
      "\u001b[33m⌅\u001b[39m \u001b[90m[a98d9a8b] \u001b[39m\u001b[92m+ Interpolations v0.15.1\u001b[39m\n",
      "  \u001b[90m[41ab1584] \u001b[39m\u001b[92m+ InvertedIndices v1.3.1\u001b[39m\n",
      "  \u001b[90m[92d709cd] \u001b[39m\u001b[92m+ IrrationalConstants v0.2.4\u001b[39m\n",
      "  \u001b[90m[82899510] \u001b[39m\u001b[92m+ IteratorInterfaceExtensions v1.0.0\u001b[39m\n",
      "  \u001b[90m[033835bb] \u001b[39m\u001b[92m+ JLD2 v0.6.0\u001b[39m\n",
      "  \u001b[90m[1019f520] \u001b[39m\u001b[92m+ JLFzf v0.1.11\u001b[39m\n",
      "  \u001b[90m[692b3bcd] \u001b[39m\u001b[92m+ JLLWrappers v1.7.1\u001b[39m\n",
      "  \u001b[90m[682c06a0] \u001b[39m\u001b[92m+ JSON v0.21.4\u001b[39m\n",
      "  \u001b[90m[5ab0869b] \u001b[39m\u001b[92m+ KernelDensity v0.6.10\u001b[39m\n",
      "  \u001b[90m[b964fa9f] \u001b[39m\u001b[92m+ LaTeXStrings v1.4.0\u001b[39m\n",
      "  \u001b[90m[23fbe1c1] \u001b[39m\u001b[92m+ Latexify v0.16.9\u001b[39m\n",
      "  \u001b[90m[2ab3a3ac] \u001b[39m\u001b[92m+ LogExpFunctions v0.3.29\u001b[39m\n",
      "  \u001b[90m[e6f89c97] \u001b[39m\u001b[92m+ LoggingExtras v1.1.0\u001b[39m\n",
      "  \u001b[90m[1914dd2f] \u001b[39m\u001b[92m+ MacroTools v0.5.16\u001b[39m\n",
      "  \u001b[90m[739be429] \u001b[39m\u001b[92m+ MbedTLS v1.1.9\u001b[39m\n",
      "  \u001b[90m[442fdcdd] \u001b[39m\u001b[92m+ Measures v0.3.2\u001b[39m\n",
      "  \u001b[90m[e1d29d7a] \u001b[39m\u001b[92m+ Missings v1.2.0\u001b[39m\n",
      "  \u001b[90m[6f286f6a] \u001b[39m\u001b[92m+ MultivariateStats v0.10.3\u001b[39m\n",
      "  \u001b[90m[77ba4419] \u001b[39m\u001b[92m+ NaNMath v1.1.3\u001b[39m\n",
      "  \u001b[90m[b8a86587] \u001b[39m\u001b[92m+ NearestNeighbors v0.4.22\u001b[39m\n",
      "  \u001b[90m[510215fc] \u001b[39m\u001b[92m+ Observables v0.5.5\u001b[39m\n",
      "  \u001b[90m[6fe1bfb0] \u001b[39m\u001b[92m+ OffsetArrays v1.17.0\u001b[39m\n",
      "  \u001b[90m[4d8831e6] \u001b[39m\u001b[92m+ OpenSSL v1.5.0\u001b[39m\n",
      "  \u001b[90m[bac558e1] \u001b[39m\u001b[92m+ OrderedCollections v1.8.1\u001b[39m\n",
      "  \u001b[90m[90014a1f] \u001b[39m\u001b[92m+ PDMats v0.11.35\u001b[39m\n",
      "  \u001b[90m[69de0a69] \u001b[39m\u001b[92m+ Parsers v2.8.3\u001b[39m\n",
      "  \u001b[90m[ccf2f8ad] \u001b[39m\u001b[92m+ PlotThemes v3.3.0\u001b[39m\n",
      "  \u001b[90m[995b91a9] \u001b[39m\u001b[92m+ PlotUtils v1.4.3\u001b[39m\n",
      "  \u001b[90m[91a5bcdd] \u001b[39m\u001b[92m+ Plots v1.40.19\u001b[39m\n",
      "  \u001b[90m[2dfb63ee] \u001b[39m\u001b[92m+ PooledArrays v1.4.3\u001b[39m\n",
      "\u001b[33m⌅\u001b[39m \u001b[90m[aea7be01] \u001b[39m\u001b[92m+ PrecompileTools v1.2.1\u001b[39m\n",
      "  \u001b[90m[21216c6a] \u001b[39m\u001b[92m+ Preferences v1.5.0\u001b[39m\n",
      "\u001b[33m⌅\u001b[39m \u001b[90m[08abe8d2] \u001b[39m\u001b[92m+ PrettyTables v2.4.0\u001b[39m\n",
      "  \u001b[90m[43287f4e] \u001b[39m\u001b[92m+ PtrArrays v1.3.0\u001b[39m\n",
      "  \u001b[90m[1fd47b50] \u001b[39m\u001b[92m+ QuadGK v2.11.2\u001b[39m\n",
      "  \u001b[90m[c84ed2f1] \u001b[39m\u001b[92m+ Ratios v0.4.5\u001b[39m\n",
      "  \u001b[90m[3cdcf5f2] \u001b[39m\u001b[92m+ RecipesBase v1.3.4\u001b[39m\n",
      "  \u001b[90m[01d81517] \u001b[39m\u001b[92m+ RecipesPipeline v0.6.12\u001b[39m\n",
      "  \u001b[90m[189a3867] \u001b[39m\u001b[92m+ Reexport v1.2.2\u001b[39m\n",
      "  \u001b[90m[05181044] \u001b[39m\u001b[92m+ RelocatableFolders v1.0.1\u001b[39m\n",
      "  \u001b[90m[ae029012] \u001b[39m\u001b[92m+ Requires v1.3.1\u001b[39m\n",
      "  \u001b[90m[79098fc4] \u001b[39m\u001b[92m+ Rmath v0.8.0\u001b[39m\n",
      "  \u001b[90m[7e506255] \u001b[39m\u001b[92m+ ScopedValues v1.5.0\u001b[39m\n",
      "  \u001b[90m[6c6a2e73] \u001b[39m\u001b[92m+ Scratch v1.3.0\u001b[39m\n",
      "  \u001b[90m[91c51154] \u001b[39m\u001b[92m+ SentinelArrays v1.4.8\u001b[39m\n",
      "  \u001b[90m[992d4aef] \u001b[39m\u001b[92m+ Showoff v1.0.3\u001b[39m\n",
      "  \u001b[90m[777ac1f9] \u001b[39m\u001b[92m+ SimpleBufferStream v1.2.0\u001b[39m\n",
      "  \u001b[90m[a2af1166] \u001b[39m\u001b[92m+ SortingAlgorithms v1.2.2\u001b[39m\n",
      "  \u001b[90m[276daf66] \u001b[39m\u001b[92m+ SpecialFunctions v2.5.1\u001b[39m\n",
      "  \u001b[90m[860ef19b] \u001b[39m\u001b[92m+ StableRNGs v1.0.3\u001b[39m\n",
      "  \u001b[90m[90137ffa] \u001b[39m\u001b[92m+ StaticArrays v1.9.14\u001b[39m\n",
      "  \u001b[90m[1e83bf80] \u001b[39m\u001b[92m+ StaticArraysCore v1.4.3\u001b[39m\n",
      "  \u001b[90m[10745b16] \u001b[39m\u001b[92m+ Statistics v1.11.1\u001b[39m\n",
      "  \u001b[90m[82ae8749] \u001b[39m\u001b[92m+ StatsAPI v1.7.1\u001b[39m\n",
      "  \u001b[90m[2913bbd2] \u001b[39m\u001b[92m+ StatsBase v0.34.6\u001b[39m\n",
      "  \u001b[90m[4c63d2b9] \u001b[39m\u001b[92m+ StatsFuns v1.5.0\u001b[39m\n",
      "  \u001b[90m[f3b207a7] \u001b[39m\u001b[92m+ StatsPlots v0.15.7\u001b[39m\n",
      "  \u001b[90m[892a3eda] \u001b[39m\u001b[92m+ StringManipulation v0.4.1\u001b[39m\n",
      "  \u001b[90m[ab02a1b2] \u001b[39m\u001b[92m+ TableOperations v1.2.0\u001b[39m\n",
      "  \u001b[90m[3783bdb8] \u001b[39m\u001b[92m+ TableTraits v1.0.1\u001b[39m\n",
      "  \u001b[90m[bd369af6] \u001b[39m\u001b[92m+ Tables v1.12.1\u001b[39m\n",
      "  \u001b[90m[62fd8b95] \u001b[39m\u001b[92m+ TensorCore v0.1.1\u001b[39m\n",
      "  \u001b[90m[3bb67fe8] \u001b[39m\u001b[92m+ TranscodingStreams v0.11.3\u001b[39m\n",
      "  \u001b[90m[5c2747f8] \u001b[39m\u001b[92m+ URIs v1.6.1\u001b[39m\n",
      "  \u001b[90m[1cfade01] \u001b[39m\u001b[92m+ UnicodeFun v0.4.1\u001b[39m\n",
      "  \u001b[90m[1986cc42] \u001b[39m\u001b[92m+ Unitful v1.24.0\u001b[39m\n",
      "  \u001b[90m[45397f5d] \u001b[39m\u001b[92m+ UnitfulLatexify v1.7.0\u001b[39m\n",
      "  \u001b[90m[41fe7b60] \u001b[39m\u001b[92m+ Unzip v0.2.0\u001b[39m\n",
      "  \u001b[90m[24b76065] \u001b[39m\u001b[92m+ VLDataScienceMachineLearningPackage v0.1.0 `https://github.com/varnerlab/VLDataScienceMachineLearningPackage.jl.git#main`\u001b[39m\n",
      "  \u001b[90m[ea10d353] \u001b[39m\u001b[92m+ WeakRefStrings v1.4.2\u001b[39m\n",
      "  \u001b[90m[cc8bc4a8] \u001b[39m\u001b[92m+ Widgets v0.6.7\u001b[39m\n",
      "  \u001b[90m[efce3f68] \u001b[39m\u001b[92m+ WoodburyMatrices v1.0.0\u001b[39m\n",
      "  \u001b[90m[76eceee3] \u001b[39m\u001b[92m+ WorkerUtilities v1.6.1\u001b[39m\n",
      "\u001b[33m⌅\u001b[39m \u001b[90m[68821587] \u001b[39m\u001b[92m+ Arpack_jll v3.5.1+1\u001b[39m\n",
      "  \u001b[90m[6e34b625] \u001b[39m\u001b[92m+ Bzip2_jll v1.0.9+0\u001b[39m\n",
      "  \u001b[90m[83423d85] \u001b[39m\u001b[92m+ Cairo_jll v1.18.5+0\u001b[39m\n",
      "  \u001b[90m[ee1fde0b] \u001b[39m\u001b[92m+ Dbus_jll v1.16.2+0\u001b[39m\n",
      "  \u001b[90m[2702e6a9] \u001b[39m\u001b[92m+ EpollShim_jll v0.0.20230411+1\u001b[39m\n",
      "  \u001b[90m[2e619515] \u001b[39m\u001b[92m+ Expat_jll v2.7.1+0\u001b[39m\n",
      "  \u001b[90m[b22a6f82] \u001b[39m\u001b[92m+ FFMPEG_jll v7.1.1+0\u001b[39m\n",
      "  \u001b[90m[f5851436] \u001b[39m\u001b[92m+ FFTW_jll v3.3.11+0\u001b[39m\n",
      "  \u001b[90m[a3f928ae] \u001b[39m\u001b[92m+ Fontconfig_jll v2.17.1+0\u001b[39m\n",
      "  \u001b[90m[d7e528f0] \u001b[39m\u001b[92m+ FreeType2_jll v2.13.4+0\u001b[39m\n",
      "  \u001b[90m[559328eb] \u001b[39m\u001b[92m+ FriBidi_jll v1.0.17+0\u001b[39m\n",
      "  \u001b[90m[0656b61e] \u001b[39m\u001b[92m+ GLFW_jll v3.4.0+2\u001b[39m\n",
      "  \u001b[90m[d2c73de3] \u001b[39m\u001b[92m+ GR_jll v0.73.17+0\u001b[39m\n",
      "  \u001b[90m[b0724c58] \u001b[39m\u001b[92m+ GettextRuntime_jll v0.22.4+0\u001b[39m\n",
      "  \u001b[90m[7746bdde] \u001b[39m\u001b[92m+ Glib_jll v2.84.3+0\u001b[39m\n",
      "  \u001b[90m[3b182d85] \u001b[39m\u001b[92m+ Graphite2_jll v1.3.15+0\u001b[39m\n",
      "  \u001b[90m[2e76f6c2] \u001b[39m\u001b[92m+ HarfBuzz_jll v8.5.1+0\u001b[39m\n",
      "  \u001b[90m[1d5cc7b8] \u001b[39m\u001b[92m+ IntelOpenMP_jll v2025.2.0+0\u001b[39m\n",
      "  \u001b[90m[aacddb02] \u001b[39m\u001b[92m+ JpegTurbo_jll v3.1.2+0\u001b[39m\n",
      "  \u001b[90m[c1c5ebd0] \u001b[39m\u001b[92m+ LAME_jll v3.100.3+0\u001b[39m\n",
      "  \u001b[90m[88015f11] \u001b[39m\u001b[92m+ LERC_jll v4.0.1+0\u001b[39m\n",
      "  \u001b[90m[1d63c593] \u001b[39m\u001b[92m+ LLVMOpenMP_jll v18.1.8+0\u001b[39m\n",
      "  \u001b[90m[dd4b983a] \u001b[39m\u001b[92m+ LZO_jll v2.10.3+0\u001b[39m\n",
      "  \u001b[90m[e9f186c6] \u001b[39m\u001b[92m+ Libffi_jll v3.4.7+0\u001b[39m\n",
      "  \u001b[90m[7e76a0d4] \u001b[39m\u001b[92m+ Libglvnd_jll v1.7.1+1\u001b[39m\n",
      "  \u001b[90m[94ce4f54] \u001b[39m\u001b[92m+ Libiconv_jll v1.18.0+0\u001b[39m\n",
      "  \u001b[90m[4b2f31a3] \u001b[39m\u001b[92m+ Libmount_jll v2.41.1+0\u001b[39m\n",
      "  \u001b[90m[89763e89] \u001b[39m\u001b[92m+ Libtiff_jll v4.7.1+0\u001b[39m\n",
      "  \u001b[90m[38a345b3] \u001b[39m\u001b[92m+ Libuuid_jll v2.41.1+0\u001b[39m\n",
      "  \u001b[90m[856f044c] \u001b[39m\u001b[92m+ MKL_jll v2025.2.0+0\u001b[39m\n",
      "  \u001b[90m[e7412a2a] \u001b[39m\u001b[92m+ Ogg_jll v1.3.6+0\u001b[39m\n",
      "  \u001b[90m[458c3c95] \u001b[39m\u001b[92m+ OpenSSL_jll v3.5.2+0\u001b[39m\n",
      "  \u001b[90m[efe28fd5] \u001b[39m\u001b[92m+ OpenSpecFun_jll v0.5.6+0\u001b[39m\n",
      "  \u001b[90m[91d4177d] \u001b[39m\u001b[92m+ Opus_jll v1.5.2+0\u001b[39m\n",
      "  \u001b[90m[36c8627f] \u001b[39m\u001b[92m+ Pango_jll v1.56.3+0\u001b[39m\n",
      "\u001b[33m⌅\u001b[39m \u001b[90m[30392449] \u001b[39m\u001b[92m+ Pixman_jll v0.44.2+0\u001b[39m\n",
      "  \u001b[90m[c0090381] \u001b[39m\u001b[92m+ Qt6Base_jll v6.8.2+1\u001b[39m\n",
      "  \u001b[90m[629bc702] \u001b[39m\u001b[92m+ Qt6Declarative_jll v6.8.2+1\u001b[39m\n",
      "  \u001b[90m[ce943373] \u001b[39m\u001b[92m+ Qt6ShaderTools_jll v6.8.2+1\u001b[39m\n",
      "  \u001b[90m[e99dba38] \u001b[39m\u001b[92m+ Qt6Wayland_jll v6.8.2+1\u001b[39m\n",
      "  \u001b[90m[f50d1b31] \u001b[39m\u001b[92m+ Rmath_jll v0.5.1+0\u001b[39m\n",
      "  \u001b[90m[a44049a8] \u001b[39m\u001b[92m+ Vulkan_Loader_jll v1.3.243+0\u001b[39m\n",
      "  \u001b[90m[a2964d1f] \u001b[39m\u001b[92m+ Wayland_jll v1.24.0+0\u001b[39m\n",
      "  \u001b[90m[ffd25f8a] \u001b[39m\u001b[92m+ XZ_jll v5.8.1+0\u001b[39m\n",
      "  \u001b[90m[f67eecfb] \u001b[39m\u001b[92m+ Xorg_libICE_jll v1.1.2+0\u001b[39m\n",
      "  \u001b[90m[c834827a] \u001b[39m\u001b[92m+ Xorg_libSM_jll v1.2.6+0\u001b[39m\n",
      "  \u001b[90m[4f6342f7] \u001b[39m\u001b[92m+ Xorg_libX11_jll v1.8.12+0\u001b[39m\n",
      "  \u001b[90m[0c0b7dd1] \u001b[39m\u001b[92m+ Xorg_libXau_jll v1.0.13+0\u001b[39m\n",
      "  \u001b[90m[935fb764] \u001b[39m\u001b[92m+ Xorg_libXcursor_jll v1.2.4+0\u001b[39m\n",
      "  \u001b[90m[a3789734] \u001b[39m\u001b[92m+ Xorg_libXdmcp_jll v1.1.6+0\u001b[39m\n",
      "  \u001b[90m[1082639a] \u001b[39m\u001b[92m+ Xorg_libXext_jll v1.3.7+0\u001b[39m\n",
      "  \u001b[90m[d091e8ba] \u001b[39m\u001b[92m+ Xorg_libXfixes_jll v6.0.1+0\u001b[39m\n",
      "  \u001b[90m[a51aa0fd] \u001b[39m\u001b[92m+ Xorg_libXi_jll v1.8.3+0\u001b[39m\n",
      "  \u001b[90m[d1454406] \u001b[39m\u001b[92m+ Xorg_libXinerama_jll v1.1.6+0\u001b[39m\n",
      "  \u001b[90m[ec84b674] \u001b[39m\u001b[92m+ Xorg_libXrandr_jll v1.5.5+0\u001b[39m\n",
      "  \u001b[90m[ea2f1a96] \u001b[39m\u001b[92m+ Xorg_libXrender_jll v0.9.12+0\u001b[39m\n",
      "  \u001b[90m[c7cfdc94] \u001b[39m\u001b[92m+ Xorg_libxcb_jll v1.17.1+0\u001b[39m\n",
      "  \u001b[90m[cc61e674] \u001b[39m\u001b[92m+ Xorg_libxkbfile_jll v1.1.3+0\u001b[39m\n",
      "  \u001b[90m[e920d4aa] \u001b[39m\u001b[92m+ Xorg_xcb_util_cursor_jll v0.1.5+0\u001b[39m\n",
      "  \u001b[90m[12413925] \u001b[39m\u001b[92m+ Xorg_xcb_util_image_jll v0.4.1+0\u001b[39m\n",
      "  \u001b[90m[2def613f] \u001b[39m\u001b[92m+ Xorg_xcb_util_jll v0.4.1+0\u001b[39m\n",
      "  \u001b[90m[975044d2] \u001b[39m\u001b[92m+ Xorg_xcb_util_keysyms_jll v0.4.1+0\u001b[39m\n",
      "  \u001b[90m[0d47668e] \u001b[39m\u001b[92m+ Xorg_xcb_util_renderutil_jll v0.3.10+0\u001b[39m\n",
      "  \u001b[90m[c22f9ab0] \u001b[39m\u001b[92m+ Xorg_xcb_util_wm_jll v0.4.2+0\u001b[39m\n",
      "  \u001b[90m[35661453] \u001b[39m\u001b[92m+ Xorg_xkbcomp_jll v1.4.7+0\u001b[39m\n",
      "  \u001b[90m[33bec58e] \u001b[39m\u001b[92m+ Xorg_xkeyboard_config_jll v2.44.0+0\u001b[39m\n",
      "  \u001b[90m[c5fb5394] \u001b[39m\u001b[92m+ Xorg_xtrans_jll v1.6.0+0\u001b[39m\n",
      "  \u001b[90m[3161d3a3] \u001b[39m\u001b[92m+ Zstd_jll v1.5.7+1\u001b[39m\n",
      "  \u001b[90m[35ca27e7] \u001b[39m\u001b[92m+ eudev_jll v3.2.14+0\u001b[39m\n",
      "  \u001b[90m[214eeab7] \u001b[39m\u001b[92m+ fzf_jll v0.61.1+0\u001b[39m\n",
      "  \u001b[90m[a4ae2306] \u001b[39m\u001b[92m+ libaom_jll v3.12.1+0\u001b[39m\n",
      "  \u001b[90m[0ac62f75] \u001b[39m\u001b[92m+ libass_jll v0.17.4+0\u001b[39m\n",
      "  \u001b[90m[1183f4f0] \u001b[39m\u001b[92m+ libdecor_jll v0.2.2+0\u001b[39m\n",
      "  \u001b[90m[2db6ffa8] \u001b[39m\u001b[92m+ libevdev_jll v1.13.4+0\u001b[39m\n",
      "  \u001b[90m[f638f0a6] \u001b[39m\u001b[92m+ libfdk_aac_jll v2.0.4+0\u001b[39m\n",
      "  \u001b[90m[36db933b] \u001b[39m\u001b[92m+ libinput_jll v1.28.1+0\u001b[39m\n",
      "  \u001b[90m[b53b4c65] \u001b[39m\u001b[92m+ libpng_jll v1.6.50+0\u001b[39m\n",
      "  \u001b[90m[f27f6e37] \u001b[39m\u001b[92m+ libvorbis_jll v1.3.8+0\u001b[39m\n",
      "  \u001b[90m[009596ad] \u001b[39m\u001b[92m+ mtdev_jll v1.1.7+0\u001b[39m\n",
      "  \u001b[90m[1317d2d5] \u001b[39m\u001b[92m+ oneTBB_jll v2022.0.0+0\u001b[39m\n",
      "  \u001b[90m[1270edf5] \u001b[39m\u001b[92m+ x264_jll v10164.0.1+0\u001b[39m\n",
      "  \u001b[90m[dfaa095f] \u001b[39m\u001b[92m+ x265_jll v4.1.0+0\u001b[39m\n",
      "  \u001b[90m[d8fb68d0] \u001b[39m\u001b[92m+ xkbcommon_jll v1.9.2+0\u001b[39m\n",
      "  \u001b[90m[0dad84c5] \u001b[39m\u001b[92m+ ArgTools v1.1.2\u001b[39m\n",
      "  \u001b[90m[56f22d72] \u001b[39m\u001b[92m+ Artifacts v1.11.0\u001b[39m\n",
      "  \u001b[90m[2a0f44e3] \u001b[39m\u001b[92m+ Base64 v1.11.0\u001b[39m\n",
      "  \u001b[90m[ade2ca70] \u001b[39m\u001b[92m+ Dates v1.11.0\u001b[39m\n",
      "  \u001b[90m[8ba89e20] \u001b[39m\u001b[92m+ Distributed v1.11.0\u001b[39m\n",
      "  \u001b[90m[f43a241f] \u001b[39m\u001b[92m+ Downloads v1.6.0\u001b[39m\n",
      "  \u001b[90m[7b1f6079] \u001b[39m\u001b[92m+ FileWatching v1.11.0\u001b[39m\n",
      "  \u001b[90m[9fa8497b] \u001b[39m\u001b[92m+ Future v1.11.0\u001b[39m\n",
      "  \u001b[90m[b77e0a4c] \u001b[39m\u001b[92m+ InteractiveUtils v1.11.0\u001b[39m\n",
      "  \u001b[90m[4af54fe1] \u001b[39m\u001b[92m+ LazyArtifacts v1.11.0\u001b[39m\n",
      "  \u001b[90m[b27032c2] \u001b[39m\u001b[92m+ LibCURL v0.6.4\u001b[39m\n",
      "  \u001b[90m[76f85450] \u001b[39m\u001b[92m+ LibGit2 v1.11.0\u001b[39m\n",
      "  \u001b[90m[8f399da3] \u001b[39m\u001b[92m+ Libdl v1.11.0\u001b[39m\n",
      "  \u001b[90m[37e2e46d] \u001b[39m\u001b[92m+ LinearAlgebra v1.11.0\u001b[39m\n",
      "  \u001b[90m[56ddb016] \u001b[39m\u001b[92m+ Logging v1.11.0\u001b[39m\n",
      "  \u001b[90m[d6f4376e] \u001b[39m\u001b[92m+ Markdown v1.11.0\u001b[39m\n",
      "  \u001b[90m[a63ad114] \u001b[39m\u001b[92m+ Mmap v1.11.0\u001b[39m\n",
      "  \u001b[90m[ca575930] \u001b[39m\u001b[92m+ NetworkOptions v1.2.0\u001b[39m\n",
      "  \u001b[90m[44cfe95a] \u001b[39m\u001b[92m+ Pkg v1.11.0\u001b[39m\n",
      "  \u001b[90m[de0858da] \u001b[39m\u001b[92m+ Printf v1.11.0\u001b[39m\n",
      "  \u001b[90m[3fa0cd96] \u001b[39m\u001b[92m+ REPL v1.11.0\u001b[39m\n",
      "  \u001b[90m[9a3f8284] \u001b[39m\u001b[92m+ Random v1.11.0\u001b[39m\n",
      "  \u001b[90m[ea8e919c] \u001b[39m\u001b[92m+ SHA v0.7.0\u001b[39m\n",
      "  \u001b[90m[9e88b42a] \u001b[39m\u001b[92m+ Serialization v1.11.0\u001b[39m\n",
      "  \u001b[90m[1a1011a3] \u001b[39m\u001b[92m+ SharedArrays v1.11.0\u001b[39m\n",
      "  \u001b[90m[6462fe0b] \u001b[39m\u001b[92m+ Sockets v1.11.0\u001b[39m\n",
      "  \u001b[90m[2f01184e] \u001b[39m\u001b[92m+ SparseArrays v1.11.0\u001b[39m\n",
      "  \u001b[90m[f489334b] \u001b[39m\u001b[92m+ StyledStrings v1.11.0\u001b[39m\n",
      "  \u001b[90m[4607b0f0] \u001b[39m\u001b[92m+ SuiteSparse\u001b[39m\n",
      "  \u001b[90m[fa267f1f] \u001b[39m\u001b[92m+ TOML v1.0.3\u001b[39m\n",
      "  \u001b[90m[a4e569a6] \u001b[39m\u001b[92m+ Tar v1.10.0\u001b[39m\n",
      "  \u001b[90m[8dfed614] \u001b[39m\u001b[92m+ Test v1.11.0\u001b[39m\n",
      "  \u001b[90m[cf7118a7] \u001b[39m\u001b[92m+ UUIDs v1.11.0\u001b[39m\n",
      "  \u001b[90m[4ec0a83e] \u001b[39m\u001b[92m+ Unicode v1.11.0\u001b[39m\n",
      "  \u001b[90m[e66e0078] \u001b[39m\u001b[92m+ CompilerSupportLibraries_jll v1.1.1+0\u001b[39m\n",
      "  \u001b[90m[deac9b47] \u001b[39m\u001b[92m+ LibCURL_jll v8.6.0+0\u001b[39m\n",
      "  \u001b[90m[e37daf67] \u001b[39m\u001b[92m+ LibGit2_jll v1.7.2+0\u001b[39m\n",
      "  \u001b[90m[29816b5a] \u001b[39m\u001b[92m+ LibSSH2_jll v1.11.0+1\u001b[39m\n",
      "  \u001b[90m[c8ffd9c3] \u001b[39m\u001b[92m+ MbedTLS_jll v2.28.6+0\u001b[39m\n",
      "  \u001b[90m[14a3606d] \u001b[39m\u001b[92m+ MozillaCACerts_jll v2023.12.12\u001b[39m\n",
      "  \u001b[90m[4536629a] \u001b[39m\u001b[92m+ OpenBLAS_jll v0.3.27+1\u001b[39m\n",
      "  \u001b[90m[05823500] \u001b[39m\u001b[92m+ OpenLibm_jll v0.8.5+0\u001b[39m\n",
      "  \u001b[90m[efcefdf7] \u001b[39m\u001b[92m+ PCRE2_jll v10.42.0+1\u001b[39m\n",
      "  \u001b[90m[bea87d4a] \u001b[39m\u001b[92m+ SuiteSparse_jll v7.7.0+0\u001b[39m\n",
      "  \u001b[90m[83775a58] \u001b[39m\u001b[92m+ Zlib_jll v1.2.13+1\u001b[39m\n",
      "  \u001b[90m[8e850b90] \u001b[39m\u001b[92m+ libblastrampoline_jll v5.11.0+0\u001b[39m\n",
      "  \u001b[90m[8e850ede] \u001b[39m\u001b[92m+ nghttp2_jll v1.59.0+0\u001b[39m\n",
      "  \u001b[90m[3f19e933] \u001b[39m\u001b[92m+ p7zip_jll v17.4.0+2\u001b[39m\n",
      "\u001b[36m\u001b[1m        Info\u001b[22m\u001b[39m Packages marked with \u001b[33m⌅\u001b[39m have new versions available but compatibility constraints restrict them from upgrading. To see why use `status --outdated -m`\n",
      "\u001b[92m\u001b[1mPrecompiling\u001b[22m\u001b[39m project...\n",
      "  12009.1 ms\u001b[32m  ✓ \u001b[39m\u001b[90mAbstractFFTs\u001b[39m\n",
      "  10049.0 ms\u001b[32m  ✓ \u001b[39m\u001b[90mMeasures\u001b[39m\n",
      "  10101.1 ms\u001b[32m  ✓ \u001b[39m\u001b[90mChunkCodecCore\u001b[39m\n",
      "   9996.7 ms\u001b[32m  ✓ \u001b[39m\u001b[90mObservables\u001b[39m\n",
      "   9970.3 ms\u001b[32m  ✓ \u001b[39mDistances\n",
      "  10020.2 ms\u001b[32m  ✓ \u001b[39m\u001b[90mGrisu\u001b[39m\n",
      "  10094.5 ms\u001b[32m  ✓ \u001b[39m\u001b[90mOffsetArrays\u001b[39m\n",
      "  10080.2 ms\u001b[32m  ✓ \u001b[39m\u001b[90mFormat\u001b[39m\n",
      "  10049.7 ms\u001b[32m  ✓ \u001b[39m\u001b[90mMacroTools\u001b[39m\n",
      "   1969.1 ms\u001b[32m  ✓ \u001b[39m\u001b[90mStableRNGs\u001b[39m\n",
      "   1859.8 ms\u001b[32m  ✓ \u001b[39m\u001b[90mSimpleBufferStream\u001b[39m\n",
      "   2055.4 ms\u001b[32m  ✓ \u001b[39m\u001b[90mRatios\u001b[39m\n",
      "   2103.2 ms\u001b[32m  ✓ \u001b[39m\u001b[90mHashArrayMappedTries\u001b[39m\n",
      "   2030.1 ms\u001b[32m  ✓ \u001b[39m\u001b[90mBitFlags\u001b[39m\n",
      "   2674.6 ms\u001b[32m  ✓ \u001b[39m\u001b[90mDelimitedFiles\u001b[39m\n",
      "   2768.4 ms\u001b[32m  ✓ \u001b[39m\u001b[90mUnzip\u001b[39m\n",
      "   2662.3 ms\u001b[32m  ✓ \u001b[39m\u001b[90mAdapt\u001b[39m\n",
      "   3303.6 ms\u001b[32m  ✓ \u001b[39m\u001b[90mURIs\u001b[39m\n",
      "   2252.6 ms\u001b[32m  ✓ \u001b[39m\u001b[90mScratch\u001b[39m\n",
      "   4054.0 ms\u001b[32m  ✓ \u001b[39m\u001b[90mConcurrentUtilities\u001b[39m\n",
      "   3223.7 ms\u001b[32m  ✓ \u001b[39m\u001b[90mWoodburyMatrices\u001b[39m\n",
      "   3610.9 ms\u001b[32m  ✓ \u001b[39m\u001b[90mLoggingExtras\u001b[39m\n",
      "   3527.0 ms\u001b[32m  ✓ \u001b[39m\u001b[90mExceptionUnwrapping\u001b[39m\n",
      "   2916.4 ms\u001b[32m  ✓ \u001b[39m\u001b[90mTableOperations\u001b[39m\n",
      "   5499.0 ms\u001b[32m  ✓ \u001b[39m\u001b[90mMbedTLS\u001b[39m\n",
      "   4017.8 ms\u001b[32m  ✓ \u001b[39m\u001b[90mGraphite2_jll\u001b[39m\n",
      "   4408.9 ms\u001b[32m  ✓ \u001b[39m\u001b[90mOpenSSL_jll\u001b[39m\n",
      "   3576.9 ms\u001b[32m  ✓ \u001b[39m\u001b[90mLibmount_jll\u001b[39m\n",
      "   7176.5 ms\u001b[32m  ✓ \u001b[39m\u001b[90mChainRulesCore\u001b[39m\n",
      "   3282.4 ms\u001b[32m  ✓ \u001b[39m\u001b[90mEpollShim_jll\u001b[39m\n",
      "   7607.8 ms\u001b[32m  ✓ \u001b[39m\u001b[90mUnicodeFun\u001b[39m\n",
      "   3278.5 ms\u001b[32m  ✓ \u001b[39m\u001b[90mLLVMOpenMP_jll\u001b[39m\n",
      "   3237.0 ms\u001b[32m  ✓ \u001b[39m\u001b[90mBzip2_jll\u001b[39m\n",
      "   2479.8 ms\u001b[32m  ✓ \u001b[39m\u001b[90mXorg_libICE_jll\u001b[39m\n",
      "   2524.4 ms\u001b[32m  ✓ \u001b[39m\u001b[90mXorg_libXau_jll\u001b[39m\n",
      "   2864.0 ms\u001b[32m  ✓ \u001b[39m\u001b[90mlibfdk_aac_jll\u001b[39m\n",
      "   2894.0 ms\u001b[32m  ✓ \u001b[39m\u001b[90mlibpng_jll\u001b[39m\n",
      "   2924.7 ms\u001b[32m  ✓ \u001b[39m\u001b[90mLAME_jll\u001b[39m\n",
      "   2713.2 ms\u001b[32m  ✓ \u001b[39m\u001b[90mLERC_jll\u001b[39m\n",
      "   2636.6 ms\u001b[32m  ✓ \u001b[39m\u001b[90mfzf_jll\u001b[39m\n",
      "   2905.4 ms\u001b[32m  ✓ \u001b[39m\u001b[90mJpegTurbo_jll\u001b[39m\n",
      "   2755.4 ms\u001b[32m  ✓ \u001b[39m\u001b[90mOgg_jll\u001b[39m\n",
      "   2872.8 ms\u001b[32m  ✓ \u001b[39m\u001b[90mXZ_jll\u001b[39m\n",
      "   2567.3 ms\u001b[32m  ✓ \u001b[39m\u001b[90mmtdev_jll\u001b[39m\n",
      "   2359.8 ms\u001b[32m  ✓ \u001b[39m\u001b[90mXorg_libXdmcp_jll\u001b[39m\n",
      "   2889.3 ms\u001b[32m  ✓ \u001b[39m\u001b[90moneTBB_jll\u001b[39m\n",
      "   2707.8 ms\u001b[32m  ✓ \u001b[39m\u001b[90mx265_jll\u001b[39m\n",
      "   2727.3 ms\u001b[32m  ✓ \u001b[39m\u001b[90mx264_jll\u001b[39m\n",
      "   2870.6 ms\u001b[32m  ✓ \u001b[39m\u001b[90mArpack_jll\u001b[39m\n",
      "   2890.3 ms\u001b[32m  ✓ \u001b[39m\u001b[90mZstd_jll\u001b[39m\n",
      "   2853.4 ms\u001b[32m  ✓ \u001b[39m\u001b[90mlibaom_jll\u001b[39m\n",
      "   2614.8 ms\u001b[32m  ✓ \u001b[39m\u001b[90mLZO_jll\u001b[39m\n",
      "   2662.3 ms\u001b[32m  ✓ \u001b[39m\u001b[90mExpat_jll\u001b[39m\n",
      "   2348.2 ms\u001b[32m  ✓ \u001b[39m\u001b[90mXorg_xtrans_jll\u001b[39m\n",
      "   2568.5 ms\u001b[32m  ✓ \u001b[39m\u001b[90mOpus_jll\u001b[39m\n",
      "   2216.0 ms\u001b[32m  ✓ \u001b[39m\u001b[90mlibevdev_jll\u001b[39m\n",
      "   2452.5 ms\u001b[32m  ✓ \u001b[39m\u001b[90mLibiconv_jll\u001b[39m\n",
      "   2151.2 ms\u001b[32m  ✓ \u001b[39m\u001b[90meudev_jll\u001b[39m\n",
      "   2443.0 ms\u001b[32m  ✓ \u001b[39m\u001b[90mLibffi_jll\u001b[39m\n",
      "   2249.4 ms\u001b[32m  ✓ \u001b[39m\u001b[90mLibuuid_jll\u001b[39m\n",
      "   2583.8 ms\u001b[32m  ✓ \u001b[39m\u001b[90mFFTW_jll\u001b[39m\n",
      "   2576.2 ms\u001b[32m  ✓ \u001b[39m\u001b[90mFriBidi_jll\u001b[39m\n",
      "   2478.7 ms\u001b[32m  ✓ \u001b[39m\u001b[90mColorVectorSpace → SpecialFunctionsExt\u001b[39m\n",
      "   1964.5 ms\u001b[32m  ✓ \u001b[39m\u001b[90mChunkCodecLibZlib\u001b[39m\n",
      "   2141.1 ms\u001b[32m  ✓ \u001b[39mDistances → DistancesSparseArraysExt\n",
      "   1876.1 ms\u001b[32m  ✓ \u001b[39m\u001b[90mShowoff\u001b[39m\n",
      "   3247.2 ms\u001b[32m  ✓ \u001b[39m\u001b[90mWidgets\u001b[39m\n",
      "   5133.6 ms\u001b[32m  ✓ \u001b[39m\u001b[90mIntelOpenMP_jll\u001b[39m\n",
      "   5423.8 ms\u001b[32m  ✓ \u001b[39m\u001b[90mRecipesBase\u001b[39m\n",
      "   4802.6 ms\u001b[32m  ✓ \u001b[39m\u001b[90mAbstractFFTs → AbstractFFTsTestExt\u001b[39m\n",
      "   1160.5 ms\u001b[32m  ✓ \u001b[39m\u001b[90mScopedValues\u001b[39m\n",
      "   1419.7 ms\u001b[32m  ✓ \u001b[39m\u001b[90mRatios → RatiosFixedPointNumbersExt\u001b[39m\n",
      "   1772.2 ms\u001b[32m  ✓ \u001b[39m\u001b[90mAdapt → AdaptSparseArraysExt\u001b[39m\n",
      "   1494.6 ms\u001b[32m  ✓ \u001b[39m\u001b[90mOffsetArrays → OffsetArraysAdaptExt\u001b[39m\n",
      "   2532.1 ms\u001b[32m  ✓ \u001b[39m\u001b[90mAdapt → AdaptStaticArraysExt\u001b[39m\n",
      "   1488.3 ms\u001b[32m  ✓ \u001b[39m\u001b[90mRelocatableFolders\u001b[39m\n",
      "   2243.9 ms\u001b[32m  ✓ \u001b[39m\u001b[90mAxisAlgorithms\u001b[39m\n",
      "   2650.3 ms\u001b[32m  ✓ \u001b[39m\u001b[90mChainRulesCore → ChainRulesCoreSparseArraysExt\u001b[39m\n",
      "   8082.2 ms\u001b[32m  ✓ \u001b[39m\u001b[90mNearestNeighbors\u001b[39m\n",
      "   2835.7 ms\u001b[32m  ✓ \u001b[39m\u001b[90mStaticArrays → StaticArraysChainRulesCoreExt\u001b[39m\n",
      "   5195.0 ms\u001b[32m  ✓ \u001b[39m\u001b[90mOpenSSL\u001b[39m\n",
      "   4714.2 ms\u001b[32m  ✓ \u001b[39m\u001b[90mLogExpFunctions → LogExpFunctionsChainRulesCoreExt\u001b[39m\n",
      "   2142.7 ms\u001b[32m  ✓ \u001b[39m\u001b[90mAbstractFFTs → AbstractFFTsChainRulesCoreExt\u001b[39m\n",
      "  10359.0 ms\u001b[32m  ✓ \u001b[39m\u001b[90mLatexify\u001b[39m\n",
      "   2148.9 ms\u001b[32m  ✓ \u001b[39mDistances → DistancesChainRulesCoreExt\n",
      "   5817.1 ms\u001b[32m  ✓ \u001b[39m\u001b[90mSpecialFunctions → SpecialFunctionsChainRulesCoreExt\u001b[39m\n",
      "   2549.6 ms\u001b[32m  ✓ \u001b[39m\u001b[90mPixman_jll\u001b[39m\n",
      "   4756.3 ms\u001b[32m  ✓ \u001b[39mDistributions → DistributionsChainRulesCoreExt\n",
      "   5256.5 ms\u001b[32m  ✓ \u001b[39m\u001b[90mStatsFuns → StatsFunsChainRulesCoreExt\u001b[39m\n",
      "   2787.9 ms\u001b[32m  ✓ \u001b[39m\u001b[90mFreeType2_jll\u001b[39m\n",
      "   2236.5 ms\u001b[32m  ✓ \u001b[39m\u001b[90mXorg_libSM_jll\u001b[39m\n",
      "   2127.4 ms\u001b[32m  ✓ \u001b[39m\u001b[90mXorg_libxcb_jll\u001b[39m\n",
      "   2333.8 ms\u001b[32m  ✓ \u001b[39m\u001b[90mArpack\u001b[39m\n",
      "   2840.2 ms\u001b[32m  ✓ \u001b[39m\u001b[90mlibvorbis_jll\u001b[39m\n",
      "   3535.6 ms\u001b[32m  ✓ \u001b[39m\u001b[90mJLFzf\u001b[39m\n",
      "   2434.5 ms\u001b[32m  ✓ \u001b[39m\u001b[90mChunkCodecLibZstd\u001b[39m\n",
      "   2120.9 ms\u001b[32m  ✓ \u001b[39m\u001b[90mDbus_jll\u001b[39m\n",
      "   3398.1 ms\u001b[32m  ✓ \u001b[39m\u001b[90mLibtiff_jll\u001b[39m\n",
      "   2077.3 ms\u001b[32m  ✓ \u001b[39m\u001b[90mWayland_jll\u001b[39m\n",
      "   2114.6 ms\u001b[32m  ✓ \u001b[39m\u001b[90mlibinput_jll\u001b[39m\n",
      "   2804.8 ms\u001b[32m  ✓ \u001b[39m\u001b[90mGettextRuntime_jll\u001b[39m\n",
      "   2513.2 ms\u001b[32m  ✓ \u001b[39m\u001b[90mLatexify → SparseArraysExt\u001b[39m\n",
      "   4173.3 ms\u001b[32m  ✓ \u001b[39m\u001b[90mFontconfig_jll\u001b[39m\n",
      "   2113.7 ms\u001b[32m  ✓ \u001b[39m\u001b[90mXorg_xcb_util_jll\u001b[39m\n",
      "   4851.3 ms\u001b[32m  ✓ \u001b[39m\u001b[90mLatexify → DataFramesExt\u001b[39m\n",
      "   6541.1 ms\u001b[32m  ✓ \u001b[39mClustering\n",
      "   8446.7 ms\u001b[32m  ✓ \u001b[39m\u001b[90mInterpolations\u001b[39m\n",
      "   2757.3 ms\u001b[32m  ✓ \u001b[39m\u001b[90mXorg_libX11_jll\u001b[39m\n",
      "   5191.5 ms\u001b[32m  ✓ \u001b[39m\u001b[90mGlib_jll\u001b[39m\n",
      "   3024.2 ms\u001b[32m  ✓ \u001b[39m\u001b[90mXorg_xcb_util_image_jll\u001b[39m\n",
      "   2896.6 ms\u001b[32m  ✓ \u001b[39m\u001b[90mXorg_xcb_util_keysyms_jll\u001b[39m\n",
      "   8663.4 ms\u001b[32m  ✓ \u001b[39m\u001b[90mMultivariateStats\u001b[39m\n",
      "   3235.0 ms\u001b[32m  ✓ \u001b[39m\u001b[90mXorg_xcb_util_renderutil_jll\u001b[39m\n",
      "   3440.6 ms\u001b[32m  ✓ \u001b[39m\u001b[90mXorg_xcb_util_wm_jll\u001b[39m\n",
      "   3236.5 ms\u001b[32m  ✓ \u001b[39m\u001b[90mXorg_libXrender_jll\u001b[39m\n",
      "  18234.4 ms\u001b[32m  ✓ \u001b[39m\u001b[90mMKL_jll\u001b[39m\n",
      "   4163.4 ms\u001b[32m  ✓ \u001b[39m\u001b[90mXorg_libXfixes_jll\u001b[39m\n",
      "   4503.9 ms\u001b[32m  ✓ \u001b[39m\u001b[90mXorg_xcb_util_cursor_jll\u001b[39m\n",
      "   4849.5 ms\u001b[32m  ✓ \u001b[39m\u001b[90mXorg_libXext_jll\u001b[39m\n",
      "   4861.2 ms\u001b[32m  ✓ \u001b[39m\u001b[90mXorg_libxkbfile_jll\u001b[39m\n",
      "  35618.6 ms\u001b[32m  ✓ \u001b[39m\u001b[90mPlotUtils\u001b[39m\n",
      "   2925.7 ms\u001b[32m  ✓ \u001b[39m\u001b[90mXorg_libXcursor_jll\u001b[39m\n",
      "   2908.2 ms\u001b[32m  ✓ \u001b[39m\u001b[90mXorg_libXi_jll\u001b[39m\n",
      "   3049.7 ms\u001b[32m  ✓ \u001b[39m\u001b[90mXorg_libXrandr_jll\u001b[39m\n",
      "   3102.0 ms\u001b[32m  ✓ \u001b[39m\u001b[90mXorg_libXinerama_jll\u001b[39m\n",
      "   2720.3 ms\u001b[32m  ✓ \u001b[39m\u001b[90mLibglvnd_jll\u001b[39m\n",
      "   2741.6 ms\u001b[32m  ✓ \u001b[39m\u001b[90mXorg_xkbcomp_jll\u001b[39m\n",
      "   5778.0 ms\u001b[32m  ✓ \u001b[39m\u001b[90mCairo_jll\u001b[39m\n",
      "   3230.4 ms\u001b[32m  ✓ \u001b[39m\u001b[90mXorg_xkeyboard_config_jll\u001b[39m\n",
      "   2626.8 ms\u001b[32m  ✓ \u001b[39m\u001b[90mxkbcommon_jll\u001b[39m\n",
      "   5948.7 ms\u001b[32m  ✓ \u001b[39m\u001b[90mHarfBuzz_jll\u001b[39m\n",
      "   4802.4 ms\u001b[32m  ✓ \u001b[39m\u001b[90mVulkan_Loader_jll\u001b[39m\n",
      "  14198.4 ms\u001b[32m  ✓ \u001b[39m\u001b[90mPlotThemes\u001b[39m\n",
      "  10227.4 ms\u001b[32m  ✓ \u001b[39m\u001b[90mlibass_jll\u001b[39m\n",
      "  10286.5 ms\u001b[32m  ✓ \u001b[39m\u001b[90mPango_jll\u001b[39m\n",
      "  79780.1 ms\u001b[32m  ✓ \u001b[39m\u001b[90mUnitful\u001b[39m\n",
      "  21804.4 ms\u001b[32m  ✓ \u001b[39m\u001b[90mRecipesPipeline\u001b[39m\n",
      "  10639.0 ms\u001b[32m  ✓ \u001b[39m\u001b[90mQt6Base_jll\u001b[39m\n",
      "   3127.3 ms\u001b[32m  ✓ \u001b[39m\u001b[90mlibdecor_jll\u001b[39m\n",
      "  30496.8 ms\u001b[32m  ✓ \u001b[39m\u001b[90mFFTW\u001b[39m\n",
      "   3464.6 ms\u001b[32m  ✓ \u001b[39m\u001b[90mUnitful → PrintfExt\u001b[39m\n",
      "   2813.9 ms\u001b[32m  ✓ \u001b[39m\u001b[90mGLFW_jll\u001b[39m\n",
      "   5436.8 ms\u001b[32m  ✓ \u001b[39m\u001b[90mInterpolations → InterpolationsUnitfulExt\u001b[39m\n",
      "   4681.0 ms\u001b[32m  ✓ \u001b[39m\u001b[90mQt6ShaderTools_jll\u001b[39m\n",
      "   8116.3 ms\u001b[32m  ✓ \u001b[39m\u001b[90mFFMPEG_jll\u001b[39m\n",
      "   5329.1 ms\u001b[32m  ✓ \u001b[39m\u001b[90mUnitfulLatexify\u001b[39m\n",
      "   2768.1 ms\u001b[32m  ✓ \u001b[39m\u001b[90mFFMPEG\u001b[39m\n",
      "   8176.7 ms\u001b[32m  ✓ \u001b[39m\u001b[90mKernelDensity\u001b[39m\n",
      "   4737.4 ms\u001b[32m  ✓ \u001b[39m\u001b[90mGR_jll\u001b[39m\n",
      "   7745.9 ms\u001b[32m  ✓ \u001b[39m\u001b[90mQt6Declarative_jll\u001b[39m\n",
      "   2238.2 ms\u001b[32m  ✓ \u001b[39m\u001b[90mQt6Wayland_jll\u001b[39m\n",
      "  64214.9 ms\u001b[32m  ✓ \u001b[39m\u001b[90mHTTP\u001b[39m\n",
      "   3433.4 ms\u001b[32m  ✓ \u001b[39mFileIO → HTTPExt\n",
      "   7534.9 ms\u001b[32m  ✓ \u001b[39m\u001b[90mGR\u001b[39m\n",
      "  86100.6 ms\u001b[32m  ✓ \u001b[39mJLD2\n",
      " 128255.3 ms\u001b[32m  ✓ \u001b[39mPlots\n",
      "   8238.5 ms\u001b[32m  ✓ \u001b[39mPlots → FileIOExt\n",
      "   8274.8 ms\u001b[32m  ✓ \u001b[39mPlots → UnitfulExt\n",
      "  11078.7 ms\u001b[32m  ✓ \u001b[39mStatsPlots\n",
      "  159 dependencies successfully precompiled in 276 seconds. 113 already precompiled.\n",
      "  \u001b[33m1\u001b[39m dependency had output during precompilation:\u001b[33m\n",
      "┌ \u001b[39mMKL_jll\u001b[33m\n",
      "│  \u001b[39m\u001b[32m\u001b[1m Downloading\u001b[22m\u001b[39m artifact: IntelOpenMP\u001b[33m\n",
      "└  \u001b[39m\n",
      "\u001b[32m\u001b[1m  Activating\u001b[22m\u001b[39m project at `c:\\Users\\billn\\Downloads\\CHEM4800\\CHEME-5800-Labs-Fall-2025\\labs\\week-1\\L1d`\n",
      "\u001b[32m\u001b[1m  No Changes\u001b[22m\u001b[39m to `C:\\Users\\billn\\Downloads\\CHEM4800\\CHEME-5800-Labs-Fall-2025\\labs\\week-1\\L1d\\Project.toml`\n",
      "\u001b[32m\u001b[1m  No Changes\u001b[22m\u001b[39m to `C:\\Users\\billn\\Downloads\\CHEM4800\\CHEME-5800-Labs-Fall-2025\\labs\\week-1\\L1d\\Manifest.toml`\n",
      "\u001b[32m\u001b[1m    Updating\u001b[22m\u001b[39m registry at `C:\\Users\\billn\\.julia\\registries\\General.toml`\n",
      "\u001b[32m\u001b[1m    Updating\u001b[22m\u001b[39m git-repo `https://github.com/varnerlab/VLDataScienceMachineLearningPackage.jl.git`\n",
      "\u001b[32m\u001b[1m  No Changes\u001b[22m\u001b[39m to `C:\\Users\\billn\\Downloads\\CHEM4800\\CHEME-5800-Labs-Fall-2025\\labs\\week-1\\L1d\\Project.toml`\n",
      "\u001b[32m\u001b[1m  No Changes\u001b[22m\u001b[39m to `C:\\Users\\billn\\Downloads\\CHEM4800\\CHEME-5800-Labs-Fall-2025\\labs\\week-1\\L1d\\Manifest.toml`\n",
      "\u001b[36m\u001b[1m        Info\u001b[22m\u001b[39m We haven't cleaned this depot up for a bit, running Pkg.gc()...\n",
      "\u001b[32m\u001b[1m      Active\u001b[22m\u001b[39m manifest files: 5 found\n",
      "\u001b[32m\u001b[1m      Active\u001b[22m\u001b[39m artifact files: 85 found\n",
      "\u001b[32m\u001b[1m      Active\u001b[22m\u001b[39m scratchspaces: 2 found\n",
      "\u001b[32m\u001b[1m     Deleted\u001b[22m\u001b[39m no artifacts, repos, packages or scratchspaces\n"
     ]
    }
   ],
   "source": [
    "include(joinpath(@__DIR__, \"Include.jl\")); # what is going on here?"
   ]
  },
  {
   "cell_type": "markdown",
   "id": "74f6aa78-f9c1-4081-acb0-0f20bfd2bee3",
   "metadata": {},
   "source": [
    "___"
   ]
  },
  {
   "cell_type": "markdown",
   "id": "f4624e7a-442c-48d7-8d10-88d17d153d45",
   "metadata": {},
   "source": [
    "##  Task 1: Explore the ASCII Character Set\n",
    "Let's start by considering the representation of the characters in the 7-bit ASCII character system. \n",
    "\n",
    "> __Fun fact__: While 7-bit ASCII has been replaced a long time ago, it still lives on in the modern [Unicode system](https://en.wikipedia.org/wiki/Unicode). The original ASCII characters are encoded as the first 128 characters (`0`$\\rightarrow$`127`) in [the Unicode system](https://en.wikipedia.org/wiki/Unicode).\n",
    "\n",
    "Let's start by building the `ascii_char_dictionary::Dict{Int64, Char}` dictionary, which is a mapping between the ASCII character index (an integer) and the character value, which [is type `c::Char` in Julia](https://docs.julialang.org/en/v1/base/strings/#Core.Char).\n",
    "\n",
    "This logic involves some advanced tools and techniques we have yet to discuss. You can skip the implementation details for now; we'll come back to them later. However, there is one interesting method, namely [the `convert(...)` method](https://docs.julialang.org/en/v1/base/base/#Base.convert). This is a direct way to convert between the characters that you and I see and the integers that the computer understands."
   ]
  },
  {
   "cell_type": "code",
   "execution_count": 3,
   "id": "87dc114b-c11b-4eed-997b-3c2b39b14c3a",
   "metadata": {},
   "outputs": [
    {
     "data": {
      "text/plain": [
       "Dict{Int64, Char} with 128 entries:\n",
       "  5   => '\\x05'\n",
       "  56  => '8'\n",
       "  35  => '#'\n",
       "  55  => '7'\n",
       "  110 => 'n'\n",
       "  114 => 'r'\n",
       "  123 => '{'\n",
       "  60  => '<'\n",
       "  30  => '\\x1e'\n",
       "  32  => ' '\n",
       "  6   => '\\x06'\n",
       "  67  => 'C'\n",
       "  45  => '-'\n",
       "  117 => 'u'\n",
       "  73  => 'I'\n",
       "  115 => 's'\n",
       "  112 => 'p'\n",
       "  64  => '@'\n",
       "  90  => 'Z'\n",
       "  ⋮   => ⋮"
      ]
     },
     "metadata": {},
     "output_type": "display_data"
    }
   ],
   "source": [
    "ascii_char_dictionary = let\n",
    "\n",
    "    # initialize -\n",
    "    ascii_char_dictionary = Dict{Int64, Char}(); # storage for index - character map\n",
    "    ASCII_character_range = range(0,stop=127,step=1) |> collect; # 7-bit ASCII indexes\n",
    "\n",
    "    # main loop -\n",
    "    for i ∈ eachindex(ASCII_character_range)\n",
    "        my_ascii_char_index = ASCII_character_range[i];\n",
    "        c = convert(Char, my_ascii_char_index) # hmmm. This is an interesting function.\n",
    "        ascii_char_dictionary[my_ascii_char_index] = c;\n",
    "    end\n",
    "    ascii_char_dictionary;\n",
    "end"
   ]
  },
  {
   "cell_type": "markdown",
   "id": "9fe3a5a1-ad4d-4bb5-bf23-fbd02a5fdf1d",
   "metadata": {},
   "source": [
    "`Unhide` the code block to see how we build a table of the ASCII characters using [the `pretty_table(...)` function exported by the PrettyTables.jl package](https://github.com/ronisbr/PrettyTables.jl). Let's look at what the `ASCII` characters are. \n",
    "* This logic involves some advanced tools and techniques we have yet to discuss. You can skip the implementation details for now; we'll come back to them later. TLDR: We build the rows in the table using a [`for-loop`](https://docs.julialang.org/en/v1/base/base/#for) and [the `convert(...)` function](https://docs.julialang.org/en/v1/base/base/#Base.convert), where we push the data for a row into a [DataFrame](https://dataframes.juliadata.org/stable/), and then display the data by [calling the `pretty_table(...)` method](https://github.com/ronisbr/PrettyTables.jl)."
   ]
  },
  {
   "cell_type": "code",
   "execution_count": 3,
   "id": "ebc6b560-ac36-4d9b-803f-05f0f9be3e0b",
   "metadata": {},
   "outputs": [
    {
     "name": "stdout",
     "output_type": "stream",
     "text": [
      "======== ============\n",
      " \u001b[1m     i \u001b[0m \u001b[1m character \u001b[0m\n",
      " \u001b[90m Int64 \u001b[0m \u001b[90m      Char \u001b[0m\n",
      "======== ============\n",
      "      0          \\0\n",
      "      1        \\x01\n",
      "      2        \\x02\n",
      "      3        \\x03\n",
      "      4        \\x04\n",
      "      5        \\x05\n",
      "      6        \\x06\n",
      "      7          \\a\n",
      "      8          \\b\n",
      "      9          \\t\n",
      "     10          \\n\n",
      "     11          \\v\n",
      "     12          \\f\n",
      "     13          \\r\n",
      "     14        \\x0e\n",
      "     15        \\x0f\n",
      "     16        \\x10\n",
      "     17        \\x11\n",
      "     18        \\x12\n",
      "     19        \\x13\n",
      "     20        \\x14\n",
      "     21        \\x15\n",
      "     22        \\x16\n",
      "     23        \\x17\n",
      "     24        \\x18\n",
      "     25        \\x19\n",
      "     26        \\x1a\n",
      "     27          \\e\n",
      "     28        \\x1c\n",
      "     29        \\x1d\n",
      "     30        \\x1e\n",
      "     31        \\x1f\n",
      "     32\n",
      "     33           !\n",
      "     34           \"\n",
      "     35           #\n",
      "     36           $\n",
      "     37           %\n",
      "     38           &\n",
      "     39           '\n",
      "     40           (\n",
      "     41           )\n",
      "     42           *\n",
      "     43           +\n",
      "     44           ,\n",
      "     45           -\n",
      "     46           .\n",
      "     47           /\n",
      "     48           0\n",
      "     49           1\n",
      "     50           2\n",
      "     51           3\n",
      "     52           4\n",
      "     53           5\n",
      "     54           6\n",
      "     55           7\n",
      "     56           8\n",
      "     57           9\n",
      "     58           :\n",
      "     59           ;\n",
      "     60           <\n",
      "     61           =\n",
      "     62           >\n",
      "     63           ?\n",
      "     64           @\n",
      "     65           A\n",
      "     66           B\n",
      "     67           C\n",
      "     68           D\n",
      "     69           E\n",
      "     70           F\n",
      "     71           G\n",
      "     72           H\n",
      "     73           I\n",
      "     74           J\n",
      "     75           K\n",
      "     76           L\n",
      "     77           M\n",
      "     78           N\n",
      "     79           O\n",
      "     80           P\n",
      "     81           Q\n",
      "     82           R\n",
      "     83           S\n",
      "     84           T\n",
      "     85           U\n",
      "     86           V\n",
      "     87           W\n",
      "     88           X\n",
      "     89           Y\n",
      "     90           Z\n",
      "     91           [\n",
      "     92          \\\\\n",
      "     93           ]\n",
      "     94           ^\n",
      "     95           _\n",
      "     96           `\n",
      "     97           a\n",
      "     98           b\n",
      "     99           c\n",
      "    100           d\n",
      "    101           e\n",
      "    102           f\n",
      "    103           g\n",
      "    104           h\n",
      "    105           i\n",
      "    106           j\n",
      "    107           k\n",
      "    108           l\n",
      "    109           m\n",
      "    110           n\n",
      "    111           o\n",
      "    112           p\n",
      "    113           q\n",
      "    114           r\n",
      "    115           s\n",
      "    116           t\n",
      "    117           u\n",
      "    118           v\n",
      "    119           w\n",
      "    120           x\n",
      "    121           y\n",
      "    122           z\n",
      "    123           {\n",
      "    124           |\n",
      "    125           }\n",
      "    126           ~\n",
      "    127        \\x7f\n",
      "======== ============\n"
     ]
    }
   ],
   "source": [
    "let\n",
    "    ASCII_index_array = keys(ascii_char_dictionary) |> collect |> sort;\n",
    "    character_table_df = DataFrame();\n",
    "    for i ∈ eachindex(ASCII_index_array)\n",
    "        my_ascii_char_index = ASCII_index_array[i];\n",
    "        c = ascii_char_dictionary[my_ascii_char_index];\n",
    "\n",
    "        row = (\n",
    "            i = my_ascii_char_index,\n",
    "            character = c\n",
    "        ); # -> what is going on here? This is a cool type called a NamedTuple ...\n",
    "        push!(character_table_df,row); # push! -> what is going on here?\n",
    "    end\n",
    "    pretty_table(character_table_df, tf=tf_simple)\n",
    "end"
   ]
  },
  {
   "cell_type": "markdown",
   "id": "e42738ab-4a53-4532-ba4a-2c34570f54be",
   "metadata": {},
   "source": [
    "In the code block above, we explicitly called [the `convert(...)` method](https://docs.julialang.org/en/v1/manual/conversion-and-promotion/) to convert an [`Int`](https://docs.julialang.org/en/v1/manual/integers-and-floating-point-numbers/#Integers) to a [`Char` type](https://docs.julialang.org/en/v1/base/strings/#Core.Char). However, this was unnecessary, as Julia (and most modern languages) will automatically try to understand what you type (and do conversions for you if it can). For example:"
   ]
  },
  {
   "cell_type": "code",
   "execution_count": 4,
   "id": "547b246c-cea1-4702-9af6-eddd7abb50c4",
   "metadata": {},
   "outputs": [
    {
     "data": {
      "text/plain": [
       "99"
      ]
     },
     "metadata": {},
     "output_type": "display_data"
    }
   ],
   "source": [
    "'c' |> Int # wow. This seems a little magical. What is going on here?? (notice the single quotes), pick a different char?"
   ]
  },
  {
   "cell_type": "code",
   "execution_count": 5,
   "id": "23242f6c-a78f-491d-84b0-c813720b1240",
   "metadata": {},
   "outputs": [
    {
     "data": {
      "text/plain": [
       "99"
      ]
     },
     "metadata": {},
     "output_type": "display_data"
    }
   ],
   "source": [
    "Int('c') # Unpack the |> We can convert between ASCII characters and Int! "
   ]
  },
  {
   "cell_type": "code",
   "execution_count": 6,
   "id": "7181554a-bac0-47da-8d59-c34904a09912",
   "metadata": {},
   "outputs": [
    {
     "data": {
      "text/plain": [
       "'c': ASCII/Unicode U+0063 (category Ll: Letter, lowercase)"
      ]
     },
     "metadata": {},
     "output_type": "display_data"
    }
   ],
   "source": [
    "Char(99)"
   ]
  },
  {
   "cell_type": "markdown",
   "id": "5b8b967d-03a2-4a21-ade6-6e9211c63b89",
   "metadata": {},
   "source": [
    "### Limitations of ASCII\n",
    "Wow! ASCII seems pretty cool. It only uses 7 bits (which is super simple) to encode 128 characters (numbers, small and capital letters, some math symbols, etc). Why would we ever need anything beyond these 127 characters? As it turns out, there are many reasons. Let's look at three:\n",
    "* The original 7-bit ASCII was limited to 128 characters (0–127), so it couldn’t represent characters beyond basic English letters, digits, punctuation, and control codes.\n",
    "* The original 7-bit ASCII character set offered no native support for accented or non-Latin characters (e.g., Cyrillic, Greek, and Arabic), hindering internationalization. It only represented English.\n",
    "* The original 7-bit ASCII character set omitted modern typographic symbols, mathematical glyphs, and emojis, making it inadequate for rich text or graphical communication. For example, it can't be used to represent rich mathematical text. Bummer!\n",
    "\n",
    "These limitations, and others, led to the development of [the Unicode system](https://en.wikipedia.org/wiki/Unicode)."
   ]
  },
  {
   "cell_type": "markdown",
   "id": "1c025386-0c1d-4976-99f0-948611d62bba",
   "metadata": {},
   "source": [
    "## Task 2: Explore the Unicode Character Set\n",
    "Unlike the original 7-bit ASCII character set, which has only 128 characters, the modern [Unicode system](https://en.wikipedia.org/wiki/Unicode) _can encode_ 1,114,112 possible characters (code points). However, as of [Unicode Standard version 16.0 (released September 10, 2024)](https://www.unicode.org/versions/Unicode16.0.0/), only 154,998 of those possible code points are assigned to unique characters; various characters in many languages, a much larger family of mathematical symbols, and [emoji](https://en.wikipedia.org/wiki/Emoji) of all sorts are currently assigned. There is plenty of room to grow!\n",
    "\n",
    "Technical:\n",
    "* The [Unicode system](https://en.wikipedia.org/wiki/Unicode) uses up to 4 bytes (32 bits) of storage per character, and indexes characters using a base $b =16$ (hexadecimal) numbering system. Hexadecimal numbers are used as a convenience; they are much shorter than their binary equivalents and, thus, are easier for us to read and write than long sequences of 0s and 1s. While Unicode code points are ultimately stored as binary values, hexadecimal provides a direct and convenient way for us (humans) to represent these values.\n",
    "* Julia has [built-in Unicode support in the standard library](https://docs.julialang.org/en/v1/stdlib/Unicode/#Unicode); thus, we can work with these characters in our programs. For more information on the specific Unicode primitives supported by Julia, check out the [Julia documentation](https://docs.julialang.org/en/v1/manual/unicode-input/).\n",
    "\n",
    "Let's do some math with emojis (not really that important, but fun):"
   ]
  },
  {
   "cell_type": "code",
   "execution_count": 7,
   "id": "a03a02b2-663a-41be-ac6b-56eaf71c997a",
   "metadata": {},
   "outputs": [],
   "source": [
    "🌽 = 16; # corn = 16 \\:corn: then tab\n",
    "🍣 = 4; # sushi = 4 \\:sushi: then tab"
   ]
  },
  {
   "cell_type": "markdown",
   "id": "510d8ca5-f66f-40b2-ac77-e53d0206de52",
   "metadata": {},
   "source": [
    "Can we do operations?"
   ]
  },
  {
   "cell_type": "code",
   "execution_count": 8,
   "id": "5cb91536-6e55-423d-90e3-1998fb0be905",
   "metadata": {},
   "outputs": [
    {
     "data": {
      "text/plain": [
       "20"
      ]
     },
     "metadata": {},
     "output_type": "display_data"
    }
   ],
   "source": [
    "🌽 + 🍣  # addition?"
   ]
  },
  {
   "cell_type": "code",
   "execution_count": 9,
   "id": "683c684e-e209-4b4a-b080-d26db63807bf",
   "metadata": {},
   "outputs": [
    {
     "data": {
      "text/plain": [
       "64"
      ]
     },
     "metadata": {},
     "output_type": "display_data"
    }
   ],
   "source": [
    "(🌽 * 🍣) # multiplication?"
   ]
  },
  {
   "cell_type": "markdown",
   "id": "35fd7735-0678-4e21-a2b0-2af9d289f5b2",
   "metadata": {},
   "source": [
    "How about logical comparisons? Because Julia has built-in support for [Unicode characters](https://en.wikipedia.org/wiki/Unicode), in addition to using these characters as variables, you can also use many of the Unicode mathematical symbols to _write functional code_ that looks like something we might understand from math class.\n",
    "* For example, consider `🌽 = 16` and `🍣 = 4`. We know that $🌽\\geq{🍣}$ should return `true.` Let's write the `greater than or equal to` check using [Unicode characters](https://en.wikipedia.org/wiki/Unicode):"
   ]
  },
  {
   "cell_type": "code",
   "execution_count": 10,
   "id": "ff324478-6932-4254-9499-cdd82d700a79",
   "metadata": {},
   "outputs": [
    {
     "data": {
      "text/plain": [
       "true"
      ]
     },
     "metadata": {},
     "output_type": "display_data"
    }
   ],
   "source": [
    "🌽 ≥ 🍣 # logical comparison? (\\geq then tab)"
   ]
  },
  {
   "cell_type": "markdown",
   "id": "b7951951-d663-467a-88d0-fc5ee0726ee3",
   "metadata": {},
   "source": [
    "We can also determine whether an item is in the given collection. For example, assume we have the character set $\\mathbb{C} \\equiv \\left\\{A,B,Q,R,S\\right\\}$. Let's write an expression to check if $c\\in\\mathbb{C}$, where $\\in$ denotes the `element of` operation, and `c` is some (test) character. \n",
    "* Use the [Set data structure](https://docs.julialang.org/en/v1/base/collections/#Base.Set) to do this example. [`Set` is a collection type](https://docs.julialang.org/en/v1/base/collections/#Base.Set) (included in most modern languages) that holds items; sets are `unique` but do not maintain order.\n",
    "\n",
    "Specify the set $\\mathbb{C}$:"
   ]
  },
  {
   "cell_type": "code",
   "execution_count": 11,
   "id": "2c89cf43-4513-4865-a647-d5bb3b59f1a3",
   "metadata": {},
   "outputs": [
    {
     "data": {
      "text/plain": [
       "Set{Char} with 5 elements:\n",
       "  'A'\n",
       "  'R'\n",
       "  'S'\n",
       "  'Q'\n",
       "  'B'"
      ]
     },
     "metadata": {},
     "output_type": "display_data"
    }
   ],
   "source": [
    "C = let\n",
    "    C = Set{Char}(); # empty set with Char types\n",
    "    push!(C,'A'); # add a `A` to set C \n",
    "    push!(C,'B'); # ... `B` ...\n",
    "    push!(C,'Q'); # ... `Q` ...\n",
    "    push!(C,'R'); # ... `R` ...\n",
    "    push!(C,'S'); # ... `S` ...\n",
    "\n",
    "    C # return\n",
    "end"
   ]
  },
  {
   "cell_type": "markdown",
   "id": "ddd1baf3-a4a9-4adf-a1be-4e76a268e588",
   "metadata": {},
   "source": [
    "Specify the test character `c`:"
   ]
  },
  {
   "cell_type": "code",
   "execution_count": 12,
   "id": "9408408d-f749-4892-8b4e-2cf738b0fe7c",
   "metadata": {},
   "outputs": [],
   "source": [
    "c = 🌽; # Do we have corn in the set ℂ?"
   ]
  },
  {
   "cell_type": "markdown",
   "id": "8774e5e1-31b1-4ea1-a9a6-17c67eda5d7a",
   "metadata": {},
   "source": [
    "Check if $c\\in\\mathbb{C}$:"
   ]
  },
  {
   "cell_type": "code",
   "execution_count": 13,
   "id": "df3d0ea3-cd31-4a67-9fef-eb7d7feedca1",
   "metadata": {},
   "outputs": [
    {
     "data": {
      "text/plain": [
       "false"
      ]
     },
     "metadata": {},
     "output_type": "display_data"
    }
   ],
   "source": [
    "c ∈ C # ∈ => \\in then tab"
   ]
  },
  {
   "cell_type": "markdown",
   "id": "9ab8cd61-c9ec-4895-8618-beeda7759514",
   "metadata": {},
   "source": [
    "Ok, so [the Unicode character set is cool](https://en.wikipedia.org/wiki/Unicode), and [Julia's support for Unicode](https://docs.julialang.org/en/v1/manual/unicode-input/) is next level. But how are these characters related to base 16 numbers? Let's dig into this question next."
   ]
  },
  {
   "cell_type": "markdown",
   "id": "f7dee738-488f-4e84-b8f1-095904b6918f",
   "metadata": {},
   "source": [
    "## Task 3: Unicode Strings and Codepoints\n",
    "The built-in [Julia `String` type](https://docs.julialang.org/en/v1/base/strings/) is similar (in some ways) to the traditional text model in languages like [C](https://en.wikipedia.org/wiki/C_(programming_language)), namely, the [`String` type](https://docs.julialang.org/en/v1/base/strings/) is an ordered collection (array) of `Char` types. However, the models for the characters are more complicated.\n",
    "\n",
    "Let's play around with a `test_string_ascii::String`:"
   ]
  },
  {
   "cell_type": "code",
   "execution_count": 14,
   "id": "d53ca76b-3ad0-4a44-8864-251a2f768bf5",
   "metadata": {},
   "outputs": [],
   "source": [
    "test_string_ascii = \"Test String in Julia (notice the double quotes). Python uses both single and double quotes for Strings. 😒\";"
   ]
  },
  {
   "cell_type": "markdown",
   "id": "937b7784-afcf-43b5-8eec-0d10a7b13dd6",
   "metadata": {},
   "source": [
    "We convert `test_string_ascii::String` to an `Array{Char,1}` collection using [the `collect(...)` method](https://docs.julialang.org/en/v1/base/collections/#Base.collect-Tuple%7BAny%7D). Each character has a `U+xxxx` type code associated with it. That is a base 16 Unicode code point!\n",
    "* __What?!?__ In a `U+xxxx` unicode code point, `U+` is followed by a four- or six-digit hexadecimal number `xx..x` uniquely identifying a character in the Unicode standard. However, (really) the `U+xxxx` points are just integers! Thus, we should be able to interconvert between the `U+xxxx` and integer representations.\n",
    "\n",
    "Let's check that out!"
   ]
  },
  {
   "cell_type": "code",
   "execution_count": 15,
   "id": "ebb383e8-a75d-4570-ae18-6f5f69d7d931",
   "metadata": {},
   "outputs": [
    {
     "data": {
      "text/plain": [
       "105-element Vector{Char}:\n",
       " 'T': ASCII/Unicode U+0054 (category Lu: Letter, uppercase)\n",
       " 'e': ASCII/Unicode U+0065 (category Ll: Letter, lowercase)\n",
       " 's': ASCII/Unicode U+0073 (category Ll: Letter, lowercase)\n",
       " 't': ASCII/Unicode U+0074 (category Ll: Letter, lowercase)\n",
       " ' ': ASCII/Unicode U+0020 (category Zs: Separator, space)\n",
       " 'S': ASCII/Unicode U+0053 (category Lu: Letter, uppercase)\n",
       " 't': ASCII/Unicode U+0074 (category Ll: Letter, lowercase)\n",
       " 'r': ASCII/Unicode U+0072 (category Ll: Letter, lowercase)\n",
       " 'i': ASCII/Unicode U+0069 (category Ll: Letter, lowercase)\n",
       " 'n': ASCII/Unicode U+006E (category Ll: Letter, lowercase)\n",
       " ⋮\n",
       " 't': ASCII/Unicode U+0074 (category Ll: Letter, lowercase)\n",
       " 'r': ASCII/Unicode U+0072 (category Ll: Letter, lowercase)\n",
       " 'i': ASCII/Unicode U+0069 (category Ll: Letter, lowercase)\n",
       " 'n': ASCII/Unicode U+006E (category Ll: Letter, lowercase)\n",
       " 'g': ASCII/Unicode U+0067 (category Ll: Letter, lowercase)\n",
       " 's': ASCII/Unicode U+0073 (category Ll: Letter, lowercase)\n",
       " '.': ASCII/Unicode U+002E (category Po: Punctuation, other)\n",
       " ' ': ASCII/Unicode U+0020 (category Zs: Separator, space)\n",
       " '😒': Unicode U+1F612 (category So: Symbol, other)"
      ]
     },
     "metadata": {},
     "output_type": "display_data"
    }
   ],
   "source": [
    "character_array_test_string_ascii = test_string_ascii |> collect"
   ]
  },
  {
   "cell_type": "markdown",
   "id": "0ff720d9-2808-495e-8ab2-394b90586837",
   "metadata": {},
   "source": [
    "### How do we calculate a codepoint?\n",
    "First, let's try to compute a codepoint (index) for an example Unicode character. Consider `🍣`, which equals `U+1F363`. Let's store a test character in the `test_unicode_char::Char` variable:"
   ]
  },
  {
   "cell_type": "code",
   "execution_count": 16,
   "id": "2c66de3e-fade-4669-bda0-4abbc832ce50",
   "metadata": {},
   "outputs": [
    {
     "data": {
      "text/plain": [
       "'🍣': Unicode U+1F363 (category So: Symbol, other)"
      ]
     },
     "metadata": {},
     "output_type": "display_data"
    }
   ],
   "source": [
    "test_unicode_char = '🍣' # want to select another Unicode character?"
   ]
  },
  {
   "cell_type": "markdown",
   "id": "1cb5e957-554d-4369-94f5-7abf99ca0b21",
   "metadata": {},
   "source": [
    "We can compute the `base 10` index for a Unicode character by calling [the `Unicode.julia_chartransform(...)` method](https://docs.julialang.org/en/v1/stdlib/Unicode/#Unicode.julia_chartransform) and then converting that value to an `Int.` What is the base 10 value for the `test_unicode_char::Char`?"
   ]
  },
  {
   "cell_type": "code",
   "execution_count": 17,
   "id": "fb0d6a24-f603-4476-896c-224f55ee44a2",
   "metadata": {},
   "outputs": [
    {
     "data": {
      "text/plain": [
       "127843"
      ]
     },
     "metadata": {},
     "output_type": "display_data"
    }
   ],
   "source": [
    "test_char_index = Unicode.julia_chartransform(test_unicode_char) |> Int"
   ]
  },
  {
   "cell_type": "markdown",
   "id": "cb3a6981-c508-4792-a125-60e0dd490228",
   "metadata": {},
   "source": [
    "Couldn't we also just do this:"
   ]
  },
  {
   "cell_type": "code",
   "execution_count": 18,
   "id": "9512b22d-b6ac-4608-821f-88bc8af9df43",
   "metadata": {},
   "outputs": [
    {
     "data": {
      "text/plain": [
       "127843"
      ]
     },
     "metadata": {},
     "output_type": "display_data"
    }
   ],
   "source": [
    "test_unicode_char |> Int # oh yeah!"
   ]
  },
  {
   "cell_type": "markdown",
   "id": "aa22c49a-69e4-45b4-9341-17103d20948b",
   "metadata": {},
   "source": [
    "So we can get the base 10 representation of the Unicode character. Now let's go from base 10 to the `U+xxxx` representation. Convert the base 10 value to a base 16 (hexadecimal) number and then convert that to the [Unicode index](https://en.wikipedia.org/wiki/Unicode) format. \n",
    "> __Hexadecimal digits__: Hexadecimal numbers use decimal digits $(0,1,\\dots,9)$ and six extra symbols; the letters `A`, `B`, `C`, `D`, `E`, and `F`, where hexadecimal `A` = decimal 10, through hexadecimal `F` = decimal 15.\n",
    "\n",
    "Let's start by building the `hexidecimal_digits_dictionary::Dict{Int64, Char}` dictionary which maps the index of a digit to the digit, e.g., `13 => D`."
   ]
  },
  {
   "cell_type": "code",
   "execution_count": 19,
   "id": "e33fd60b-6cbf-4bfe-8add-e042c87ca334",
   "metadata": {},
   "outputs": [
    {
     "data": {
      "text/plain": [
       "Dict{Int64, Char} with 16 entries:\n",
       "  5  => '5'\n",
       "  12 => 'C'\n",
       "  8  => '8'\n",
       "  1  => '1'\n",
       "  0  => '0'\n",
       "  6  => '6'\n",
       "  11 => 'B'\n",
       "  9  => '9'\n",
       "  14 => 'E'\n",
       "  3  => '3'\n",
       "  7  => '7'\n",
       "  4  => '4'\n",
       "  13 => 'D'\n",
       "  15 => 'F'\n",
       "  2  => '2'\n",
       "  10 => 'A'"
      ]
     },
     "metadata": {},
     "output_type": "display_data"
    }
   ],
   "source": [
    "hexadecimal_digits_dictionary = let\n",
    "\n",
    "    # initialize 0\n",
    "    hexadecimal_digits_dictionary = Dict{Int,Char}()\n",
    "    base = 16; # what base are using?\n",
    "\n",
    "    # loop: process each digit 0 -> 15\n",
    "    for i ∈ 0:(base - 1)\n",
    "        hexadecimal_digits_dictionary[i] = '0' + i |> Char # hmmm! This is wacky; why does this work?\n",
    "        if (i > 9)\n",
    "            hexadecimal_digits_dictionary[i] = 'A' + (i - 10) |> Char \n",
    "        end\n",
    "    end\n",
    "    hexadecimal_digits_dictionary # return\n",
    "end"
   ]
  },
  {
   "cell_type": "markdown",
   "id": "48c20090-9b54-4506-8704-6f49c23a0b39",
   "metadata": {},
   "source": [
    "#### Algorithm\n",
    "Next, let's specify and implement our first algorithm to convert a base 10 number into a Unicode character code. [Unicode](https://en.wikipedia.org/wiki/Unicode) left-pads the hexadecimal character value with zeros until a 5-digit code is generated, and then `U+` is appended to the five-digit code.\n",
    "\n",
    "__Initialize__: Specify a non-negative integer $x\\in\\mathbb{Z}_{\\geq{0}}$ value, and provide the `hexadecimal_digits_dictionary::Dict{Int64, Char}`. Set $i = 0$. Set $q = \\infty$.\n",
    "\n",
    "While $q$ not equal to `0` __do__:\n",
    "1.  Divide $x$ by `16` and store the quotient in $q$ and the remainder $R\\gets{r_{i}}$ in remainder array $R$.\n",
    "2.  Divide the quotient $q$ by `16` and write down the new quotient $q^{\\prime}$. Store the new remainder $R\\gets {r_{i}}$ in the remainder array $R$. Set $q\\gets{q}^{\\prime}$ and update the counter $i\\gets {i+1}$.\n",
    "3.  Repeat step 2 until $q = 0$.\n",
    "\n",
    "For each element of the remainder array $R$, look up the equivalent hexadecimal digit from the `hexadecimal_digits_dictionary`. Save the hexadecimal digits in the digits array $D$. Starting with the last value of $D$ and moving to the first, write each of the hexadecimal values. Left-pad with `0` characters until the length is `5`.\n",
    "\n",
    "We've implemented this algorithm below, does it work (do we get back the proper `U+xx..x` code?)"
   ]
  },
  {
   "cell_type": "code",
   "execution_count": 20,
   "id": "bd01ec9c-6c56-47a5-9e38-83f3df047732",
   "metadata": {},
   "outputs": [
    {
     "data": {
      "text/plain": [
       "\"U+1F363\""
      ]
     },
     "metadata": {},
     "output_type": "display_data"
    }
   ],
   "source": [
    "my_code_point = let\n",
    "\n",
    "    q = test_char_index; \n",
    "    remainder_array = Array{Int64,1}();\n",
    "    while (q != 0)\n",
    "        r = rem(q,16)\n",
    "        q = div(q,16)\n",
    "        push!(remainder_array,r)\n",
    "    end\n",
    "\n",
    "    my_code_point = \"\";\n",
    "    for i ∈ reverse(remainder_array)\n",
    "        tmp = hexadecimal_digits_dictionary[i];\n",
    "        my_code_point *= tmp |> Char;\n",
    "    end\n",
    "\n",
    "    # left pad with zeros to get a 4-digit code\n",
    "    my_code_point = lpad(my_code_point, 5, '0') |> x-> \"U+\"*x\n",
    "end"
   ]
  },
  {
   "cell_type": "markdown",
   "id": "e403b0f4",
   "metadata": {},
   "source": [
    "## Tests\n",
    "In the code block below, we check some values in your notebook and give you feedback on which items are correct or different. `Unhide` the code block below (if you are curious) about how we implemented the tests and what we are testing.\n",
    "\n",
    "> Run the tests below after you've executed the cells that define `test_char_index` and `my_code_point`. They provide immediate pass/fail feedback for basic conversions and will help you confirm that the earlier cells executed correctly."
   ]
  },
  {
   "cell_type": "code",
   "execution_count": null,
   "id": "4f0c8199",
   "metadata": {},
   "outputs": [
    {
     "name": "stdout",
     "output_type": "stream",
     "text": [
      "\u001b[0m\u001b[1mTest Summary:                | \u001b[22m\u001b[32m\u001b[1mPass  \u001b[22m\u001b[39m\u001b[36m\u001b[1mTotal  \u001b[22m\u001b[39m\u001b[0m\u001b[1mTime\u001b[22m\n",
      "CHEME 4/5800 L1d Test Suite  | \u001b[32m   5  \u001b[39m\u001b[36m    5  \u001b[39m\u001b[0m0.2s\n",
      "  Char/Int roundtrip         | \u001b[32m   2  \u001b[39m\u001b[36m    2  \u001b[39m\u001b[0m0.2s\n",
      "  Unicode / codepoint checks | \u001b[32m   3  \u001b[39m\u001b[36m    3  \u001b[39m\u001b[0m0.0s\n",
      "\u001b[36m\u001b[1mTotal  \u001b[22m\u001b[39m\u001b[0m\u001b[1mTime\u001b[22m\n",
      "CHEME 4/5800 L1d Test Suite  | \u001b[32m   5  \u001b[39m\u001b[36m    5  \u001b[39m\u001b[0m0.2s\n",
      "  Char/Int roundtrip         | \u001b[32m   2  \u001b[39m\u001b[36m    2  \u001b[39m\u001b[0m0.2s\n",
      "  Unicode / codepoint checks | \u001b[32m   3  \u001b[39m\u001b[36m    3  \u001b[39m\u001b[0m0.0s\n"
     ]
    },
    {
     "data": {
      "text/plain": [
       "Test.DefaultTestSet(\"CHEME 4/5800 L1d Test Suite\", Any[Test.DefaultTestSet(\"Char/Int roundtrip\", Any[], 2, false, false, true, 1.756155203910849e9, 1.756155204079111e9, false, \"/Users/jdv27/Desktop/julia_work/CHEME-5800-Instances/Fall-2025/CHEME-5800-Labs-Fall-2025/labs/week-1/L1d/jl_notebook_cell_df34fa98e69747e1a8f8a730347b8e2f_X63sZmlsZQ==.jl\"), Test.DefaultTestSet(\"Unicode / codepoint checks\", Any[], 3, false, false, true, 1.756155204079149e9, 1.756155204079217e9, false, \"/Users/jdv27/Desktop/julia_work/CHEME-5800-Instances/Fall-2025/CHEME-5800-Labs-Fall-2025/labs/week-1/L1d/jl_notebook_cell_df34fa98e69747e1a8f8a730347b8e2f_X63sZmlsZQ==.jl\")], 0, false, true, true, 1.756155203903133e9, 1.756155204079222e9, false, \"/Users/jdv27/Desktop/julia_work/CHEME-5800-Instances/Fall-2025/CHEME-5800-Labs-Fall-2025/labs/week-1/L1d/jl_notebook_cell_df34fa98e69747e1a8f8a730347b8e2f_X63sZmlsZQ==.jl\")"
      ]
     },
     "metadata": {},
     "output_type": "display_data"
    }
   ],
   "source": [
    "let\n",
    "    @testset verbose = true \"CHEME 4/5800 L1d Test Suite\" begin\n",
    "\n",
    "        @testset \"Char/Int roundtrip\" begin\n",
    "            @test Int('c') == 99\n",
    "            @test Char(99) == 'c'\n",
    "        end\n",
    "\n",
    "        @testset \"Unicode / codepoint checks\" begin\n",
    "            @test isa(test_char_index, Integer)\n",
    "            @test occursin(\"U+\", my_code_point)\n",
    "            hexpart = startswith(my_code_point, \"U+\") ? my_code_point[3:end] : my_code_point\n",
    "            @test length(hexpart) >= 4\n",
    "        end\n",
    "    end\n",
    "end;"
   ]
  }
 ],
 "metadata": {
  "kernelspec": {
   "display_name": "Julia 1.11.6",
   "language": "julia",
   "name": "julia-1.11"
  },
  "language_info": {
   "file_extension": ".jl",
   "mimetype": "application/julia",
   "name": "julia",
   "version": "1.11.6"
  }
 },
 "nbformat": 4,
 "nbformat_minor": 5
}
